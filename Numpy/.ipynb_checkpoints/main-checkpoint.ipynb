{
 "cells": [
  {
   "cell_type": "markdown",
   "id": "954b54bb-c459-4f55-a3d8-c54ec70db82c",
   "metadata": {},
   "source": [
    "<div align=center style=\"background:#f88a09; displya:fill; border-radius:5px;\">\n",
    "    <span style=\"color:#1f3b4d; font-size:42px\">\n",
    "          <strong>NumPy</strong>\n",
    "    </span>\n",
    "</div>\n",
    "\n",
    "<div align=center style=\"background:#013a52; color:#baccd7; displya:fill; border-radius:5px;\n",
    "                         padding:10px; margin-top:5px; font-family:Arial\">\n",
    "    <span style=\"font-size:16px\">\n",
    "          Numpy is considered a fundamental library for scientific computing in Python, adding support for large multi-dimensional arrays. Numpy comes with a collection of high-level mathematical functions, includedbasic linear algebra, random simulation, Fourier transforms, trigonometric operations and basic statistical operations..\n",
    "        NumPy is the base for other libraries like Pandas, Scikit-Learn and SciPy. It's widely used for performing optimized mathematical operations on large arrays\n",
    "    </span>\n",
    "</div>"
   ]
  },
  {
   "cell_type": "markdown",
   "id": "2a8d547f-d3ab-44d9-8323-c2c26c69b8f5",
   "metadata": {},
   "source": [
    "<span style=\"font-size:30px; color:#3d5f74\">\n",
    "    <b>Install NumPy</b>\n",
    "</span>\n",
    "\n",
    "**Whith pip**\n",
    "```shell\n",
    "pip install numpy\n",
    "```\n",
    "\n",
    "**Whith conda**\n",
    "```shell\n",
    "conda install numpy\n",
    "```\n",
    "\n",
    "***Note:*** In general if you use Anaconda Framework , this come with numpy installed"
   ]
  },
  {
   "cell_type": "markdown",
   "id": "74db0b40-09ec-4f43-a54b-24bb567363d4",
   "metadata": {},
   "source": [
    "<span style=\"font-size:25px; color:#f88a09\">\n",
    "    <b>Import NumPy</b>\n",
    "</span></br>"
   ]
  },
  {
   "cell_type": "code",
   "execution_count": 1,
   "id": "a2893ae9-627f-499d-87dd-b32b495b778a",
   "metadata": {},
   "outputs": [],
   "source": [
    "import numpy as np"
   ]
  },
  {
   "cell_type": "markdown",
   "id": "ea28d55d-f387-4067-84f7-56489fd3cbe4",
   "metadata": {},
   "source": [
    "<span style=\"font-size:25px; color:#f88a09\">\n",
    "    <b>NumPy Arrays</b>\n",
    "</span></br>\n",
    "<span style=\"font-size:16px; color:#baccd7;\">\n",
    "    In NumPy we can find three types of ndarrays:\n",
    "    <li>  1D Array -> Vector </li>\n",
    "    <li>  2D Array -> Matrix </li>\n",
    "    <li>  +3D Array -> Tensor </li>\n",
    "</span>"
   ]
  },
  {
   "cell_type": "code",
   "execution_count": 2,
   "id": "02ca7a64-398e-4e30-bb16-5bfe57c6f9af",
   "metadata": {},
   "outputs": [
    {
     "data": {
      "text/plain": [
       "(array([1, 2, 3]),\n",
       " array([[1, 2, 3],\n",
       "        [4, 5, 6]]),\n",
       " array([[['manzana', 'pera', 'uva'],\n",
       "         ['naranja', 'piña', 'sandia']],\n",
       " \n",
       "        [['manzana', 'pera', 'uva'],\n",
       "         ['naranja', 'piña', 'sandia']]], dtype='<U7'))"
      ]
     },
     "execution_count": 2,
     "metadata": {},
     "output_type": "execute_result"
    }
   ],
   "source": [
    "a = np.array([1, 2, 3]) # -> 1D array\n",
    "b = np.array([(1, 2, 3), (4, 5, 6)]) # -> 2D array\n",
    "c = np.array( [\n",
    "    [\n",
    "        ('manzana', 'pera', 'uva'),\n",
    "        ('naranja', 'piña', 'sandia')\n",
    "    ],\n",
    "    [\n",
    "        ('manzana', 'pera', 'uva'),\n",
    "        ('naranja', 'piña', 'sandia')\n",
    "    ]\n",
    "] ) # -> Tensor\n",
    "\n",
    "a, b, c"
   ]
  },
  {
   "cell_type": "markdown",
   "id": "5b3cd6ea-6ad4-4d22-a6e3-95849b9736a6",
   "metadata": {},
   "source": [
    "<span style=\"font-size:25px; color:#f88a09\">\n",
    "    <b>Predifined Arrays</b>\n",
    "</span></br>"
   ]
  },
  {
   "cell_type": "code",
   "execution_count": 3,
   "id": "7a0858d7-0f6e-402e-a0e0-21df7eae3762",
   "metadata": {},
   "outputs": [
    {
     "data": {
      "text/plain": [
       "array([[0., 0., 0., 0.],\n",
       "       [0., 0., 0., 0.],\n",
       "       [0., 0., 0., 0.]])"
      ]
     },
     "execution_count": 3,
     "metadata": {},
     "output_type": "execute_result"
    }
   ],
   "source": [
    "zero = np.zeros((3, 4)) # -> arrays 3x4 all values 0\n",
    "zero"
   ]
  },
  {
   "cell_type": "code",
   "execution_count": 4,
   "id": "4a9cc3e4-17e4-4c0f-a6fc-3150b38e2612",
   "metadata": {},
   "outputs": [
    {
     "data": {
      "text/plain": [
       "array([[1., 1., 1.],\n",
       "       [1., 1., 1.]])"
      ]
     },
     "execution_count": 4,
     "metadata": {},
     "output_type": "execute_result"
    }
   ],
   "source": [
    "ones = np.ones((2, 3)) # -> 2x3 array with all values 1s\n",
    "ones"
   ]
  },
  {
   "cell_type": "code",
   "execution_count": 5,
   "id": "7877b415-3f25-4363-bbe2-eb0c979bd46d",
   "metadata": {},
   "outputs": [
    {
     "data": {
      "text/plain": [
       "array([[1., 0., 0., 0.],\n",
       "       [0., 1., 0., 0.],\n",
       "       [0., 0., 1., 0.],\n",
       "       [0., 0., 0., 1.]])"
      ]
     },
     "execution_count": 5,
     "metadata": {},
     "output_type": "execute_result"
    }
   ],
   "source": [
    "identity = np.eye(4) # -> identity matrix 4x4\n",
    "identity"
   ]
  },
  {
   "cell_type": "code",
   "execution_count": 6,
   "id": "56311136-95b4-4f49-9da0-46df11283c2b",
   "metadata": {},
   "outputs": [
    {
     "data": {
      "text/plain": [
       "array([  0.,  20.,  40.,  60.,  80., 100.])"
      ]
     },
     "execution_count": 6,
     "metadata": {},
     "output_type": "execute_result"
    }
   ],
   "source": [
    "lins = np.linspace(0, 100, 6) # -> create an array from 0 to 100 with step 6\n",
    "lins"
   ]
  },
  {
   "cell_type": "code",
   "execution_count": 7,
   "id": "b88caec3-28c8-46c5-a3b8-cd4a05aa330b",
   "metadata": {},
   "outputs": [
    {
     "data": {
      "text/plain": [
       "array([ 0,  3,  6,  9, 12, 15, 18])"
      ]
     },
     "execution_count": 7,
     "metadata": {},
     "output_type": "execute_result"
    }
   ],
   "source": [
    "arange = np.arange(0, 20, 3) # -> Array from0 to less than 20 with step 4\n",
    "arange"
   ]
  },
  {
   "cell_type": "code",
   "execution_count": 8,
   "id": "966ed0bd-8a13-4cc2-a308-d99af9fd6a55",
   "metadata": {},
   "outputs": [
    {
     "data": {
      "text/plain": [
       "array([[2, 2, 2, 2, 2],\n",
       "       [2, 2, 2, 2, 2],\n",
       "       [2, 2, 2, 2, 2],\n",
       "       [2, 2, 2, 2, 2]])"
      ]
     },
     "execution_count": 8,
     "metadata": {},
     "output_type": "execute_result"
    }
   ],
   "source": [
    "full = np.full((4, 5), 2) # -> 4x5 array with all values 2\n",
    "full"
   ]
  },
  {
   "cell_type": "code",
   "execution_count": 9,
   "id": "1a0eea3a-a273-4b25-9800-4361c152a219",
   "metadata": {},
   "outputs": [
    {
     "data": {
      "text/plain": [
       "array([[0.16865594, 0.44593256, 0.24477176],\n",
       "       [0.58687536, 0.89372096, 0.15436684],\n",
       "       [0.77581202, 0.36758619, 0.46086588],\n",
       "       [0.90707796, 0.97412881, 0.85120334]])"
      ]
     },
     "execution_count": 9,
     "metadata": {},
     "output_type": "execute_result"
    }
   ],
   "source": [
    "random_a = np.random.rand(4, 3) # 4x3 array for random floats between 0-1\n",
    "random_a"
   ]
  },
  {
   "cell_type": "code",
   "execution_count": 10,
   "id": "32cb46d2-efb1-49a8-b368-11179de36122",
   "metadata": {},
   "outputs": [
    {
     "data": {
      "text/plain": [
       "array([[17.71514242, 57.80752628,  7.39725737],\n",
       "       [32.10199728, 94.0827893 , 44.70111112]])"
      ]
     },
     "execution_count": 10,
     "metadata": {},
     "output_type": "execute_result"
    }
   ],
   "source": [
    "random_b = np.random.rand(2, 3) * 100 # -> 2x3 array of random floatas between 0-100\n",
    "random_b"
   ]
  },
  {
   "cell_type": "code",
   "execution_count": 12,
   "id": "873878d6-171b-4e8e-a5af-351db23063fd",
   "metadata": {},
   "outputs": [
    {
     "data": {
      "text/plain": [
       "array([[3, 4, 0],\n",
       "       [3, 1, 0]])"
      ]
     },
     "execution_count": 12,
     "metadata": {},
     "output_type": "execute_result"
    }
   ],
   "source": [
    "random_c = np.random.randint(5,size=(2,3)) # -> 2x3 array of random ints between 0-4b\n",
    "random_c"
   ]
  },
  {
   "cell_type": "markdown",
   "id": "c16a018d-d94c-40be-9bdf-51b955e3c2c7",
   "metadata": {},
   "source": [
    "<span style=\"font-size:25px; color:#f88a09\">\n",
    "    <b>Inspecting Properties</b>\n",
    "</span></br>"
   ]
  },
  {
   "cell_type": "code",
   "execution_count": 45,
   "id": "85492010-c11e-49bd-a9c8-e4eb2edaed44",
   "metadata": {},
   "outputs": [],
   "source": [
    "arr = np.array([ (2, 4, 6), (21, 10, 14), (41, 74, 58), (101, 125, 99) ])"
   ]
  },
  {
   "cell_type": "code",
   "execution_count": 46,
   "id": "88e1e4a4-918e-46c6-9f4d-2533b412410d",
   "metadata": {},
   "outputs": [
    {
     "data": {
      "text/plain": [
       "12"
      ]
     },
     "execution_count": 46,
     "metadata": {},
     "output_type": "execute_result"
    }
   ],
   "source": [
    "# size of the array\n",
    "arr.size"
   ]
  },
  {
   "cell_type": "code",
   "execution_count": 47,
   "id": "70317f71-4a64-458c-8c70-8c12c0858ff1",
   "metadata": {},
   "outputs": [
    {
     "data": {
      "text/plain": [
       "(4, 3)"
      ]
     },
     "execution_count": 47,
     "metadata": {},
     "output_type": "execute_result"
    }
   ],
   "source": [
    "# dimesnsions of array\n",
    "arr.shape"
   ]
  },
  {
   "cell_type": "code",
   "execution_count": 48,
   "id": "d8de37ba-9be9-4494-a4eb-19931f727a31",
   "metadata": {},
   "outputs": [
    {
     "data": {
      "text/plain": [
       "dtype('int64')"
      ]
     },
     "execution_count": 48,
     "metadata": {},
     "output_type": "execute_result"
    }
   ],
   "source": [
    "# returns the type of data in array\n",
    "arr.dtype"
   ]
  },
  {
   "cell_type": "code",
   "execution_count": 49,
   "id": "08db37b8-2fc2-46a1-a3ac-1312b03e6827",
   "metadata": {},
   "outputs": [
    {
     "data": {
      "text/plain": [
       "array([[  2.,   4.,   6.],\n",
       "       [ 21.,  10.,  14.],\n",
       "       [ 41.,  74.,  58.],\n",
       "       [101., 125.,  99.]])"
      ]
     },
     "execution_count": 49,
     "metadata": {},
     "output_type": "execute_result"
    }
   ],
   "source": [
    "# convert datatype\n",
    "arr.astype('float64')"
   ]
  },
  {
   "cell_type": "code",
   "execution_count": 50,
   "id": "69cd8353-da05-4a24-97b3-bf6261f77b4c",
   "metadata": {},
   "outputs": [
    {
     "data": {
      "text/plain": [
       "[[2, 4, 6], [21, 10, 14], [41, 74, 58], [101, 125, 99]]"
      ]
     },
     "execution_count": 50,
     "metadata": {},
     "output_type": "execute_result"
    }
   ],
   "source": [
    "# convert an array to a Python list\n",
    "arr.tolist()"
   ]
  },
  {
   "cell_type": "markdown",
   "id": "15453001-16d1-43d8-8a2a-c2a310fe519a",
   "metadata": {},
   "source": [
    "<span style=\"font-size:25px; color:#f88a09\">\n",
    "    <b>Copying | Sorting | Resgaping</b>\n",
    "</span></br>"
   ]
  },
  {
   "cell_type": "code",
   "execution_count": 51,
   "id": "16c0e7dc-95fb-4fb8-b5b1-cc651881b1a2",
   "metadata": {},
   "outputs": [
    {
     "data": {
      "text/plain": [
       "array([[  2,   4,   6],\n",
       "       [ 21,  10,  14],\n",
       "       [ 41,  74,  58],\n",
       "       [101, 125,  99]])"
      ]
     },
     "execution_count": 51,
     "metadata": {},
     "output_type": "execute_result"
    }
   ],
   "source": [
    "# copy an array to a new array\n",
    "arr1 = np.copy(arr)\n",
    "arr1"
   ]
  },
  {
   "cell_type": "code",
   "execution_count": 52,
   "id": "d0d949ce-34b7-416d-a071-9fb8eb02443c",
   "metadata": {},
   "outputs": [
    {
     "data": {
      "text/plain": [
       "array([[  2,   4,   6],\n",
       "       [ 21,  10,  14],\n",
       "       [ 41,  74,  58],\n",
       "       [101, 125,  99]])"
      ]
     },
     "execution_count": 52,
     "metadata": {},
     "output_type": "execute_result"
    }
   ],
   "source": [
    "# creates view of array elements in a dtype\n",
    "arr.view('int')"
   ]
  },
  {
   "cell_type": "code",
   "execution_count": 53,
   "id": "fbaf699b-61c9-44cc-9150-aee389cbcc13",
   "metadata": {},
   "outputs": [
    {
     "data": {
      "text/plain": [
       "array([[  2,   4,   6],\n",
       "       [ 10,  14,  21],\n",
       "       [ 41,  58,  74],\n",
       "       [ 99, 101, 125]])"
      ]
     },
     "execution_count": 53,
     "metadata": {},
     "output_type": "execute_result"
    }
   ],
   "source": [
    "# Sorts array\n",
    "arr.sort()\n",
    "arr"
   ]
  },
  {
   "cell_type": "code",
   "execution_count": 54,
   "id": "2c945b2d-23e7-47bf-a714-28869d4759f6",
   "metadata": {},
   "outputs": [
    {
     "data": {
      "text/plain": [
       "array([[  2,  10,  41,  99],\n",
       "       [  4,  14,  58, 101],\n",
       "       [  6,  21,  74, 125]])"
      ]
     },
     "execution_count": 54,
     "metadata": {},
     "output_type": "execute_result"
    }
   ],
   "source": [
    "# transposes array\n",
    "arr.T"
   ]
  },
  {
   "cell_type": "code",
   "execution_count": 56,
   "id": "d4024c24-62a4-45d0-a667-b811f57d9b8e",
   "metadata": {},
   "outputs": [
    {
     "data": {
      "text/plain": [
       "array([[  2,   4],\n",
       "       [  6,  10],\n",
       "       [ 14,  21],\n",
       "       [ 41,  58],\n",
       "       [ 74,  99],\n",
       "       [101, 125]])"
      ]
     },
     "execution_count": 56,
     "metadata": {},
     "output_type": "execute_result"
    }
   ],
   "source": [
    "# change shape of array\n",
    "arr.reshape(6, 2)"
   ]
  },
  {
   "cell_type": "code",
   "execution_count": 59,
   "id": "11fa370b-9eba-415b-9946-1cbb9d8959e0",
   "metadata": {},
   "outputs": [
    {
     "data": {
      "text/plain": [
       "array([[  2,   4,   6,  10],\n",
       "       [ 14,  21,  41,  58],\n",
       "       [ 74,  99, 101, 125],\n",
       "       [  2,   4,   6,  10],\n",
       "       [ 14,  21,  41,  58]])"
      ]
     },
     "execution_count": 59,
     "metadata": {},
     "output_type": "execute_result"
    }
   ],
   "source": [
    "# changes array shape to 5x4 and fills new values repeated values\n",
    "np.resize(arr, (5, 4))"
   ]
  },
  {
   "cell_type": "markdown",
   "id": "f2db9139-0968-4d4d-bcb3-402637bc45c6",
   "metadata": {},
   "source": [
    "<span style=\"font-size:25px; color:#f88a09\">\n",
    "    <b>Adding | Removing Elements</b>\n",
    "</span></br>"
   ]
  },
  {
   "cell_type": "code",
   "execution_count": 61,
   "id": "3064a944-f248-4b32-b288-53c74e067908",
   "metadata": {},
   "outputs": [
    {
     "data": {
      "text/plain": [
       "array([  2,   4,   6,  10,  14,  21,  41,  58,  74,  99, 101, 125, 225,\n",
       "       210, 215, 204])"
      ]
     },
     "execution_count": 61,
     "metadata": {},
     "output_type": "execute_result"
    }
   ],
   "source": [
    "# appends values into the end of array\n",
    "np.append(arr,[(225, 210, 215, 204)])"
   ]
  },
  {
   "cell_type": "code",
   "execution_count": 62,
   "id": "e27c567c-61d0-4af4-967f-777b49f0f85c",
   "metadata": {},
   "outputs": [
    {
     "data": {
      "text/plain": [
       "array([  2,   4,   0,   1,   6,  10,  14,  21,  41,  58,  74,  99, 101,\n",
       "       125])"
      ]
     },
     "execution_count": 62,
     "metadata": {},
     "output_type": "execute_result"
    }
   ],
   "source": [
    "# Inserts values into arr before index 2\n",
    "np.insert( arr, 2, (0, 1) )"
   ]
  },
  {
   "cell_type": "code",
   "execution_count": 63,
   "id": "a84b0095-5fcb-4216-a2bb-396de3826c9b",
   "metadata": {},
   "outputs": [
    {
     "data": {
      "text/plain": [
       "array([[ 2,  4,  6],\n",
       "       [10, 14, 21],\n",
       "       [41, 58, 74]])"
      ]
     },
     "execution_count": 63,
     "metadata": {},
     "output_type": "execute_result"
    }
   ],
   "source": [
    "# Deletes row on index 3 of array\n",
    "np.delete(arr, 3, axis=0)"
   ]
  },
  {
   "cell_type": "code",
   "execution_count": 65,
   "id": "6713febc-5d49-4399-a47a-e1dbdee6882d",
   "metadata": {},
   "outputs": [
    {
     "data": {
      "text/plain": [
       "array([[  2,   4],\n",
       "       [ 10,  14],\n",
       "       [ 41,  58],\n",
       "       [ 99, 101]])"
      ]
     },
     "execution_count": 65,
     "metadata": {},
     "output_type": "execute_result"
    }
   ],
   "source": [
    "# Deletes column on index 2 of array\n",
    "np.delete(arr, 2, axis=1)"
   ]
  },
  {
   "cell_type": "markdown",
   "id": "813fc8b7-3d65-444d-86e7-fa9d158df18e",
   "metadata": {},
   "source": [
    "<span style=\"font-size:25px; color:#f88a09\">\n",
    "    <b>Combining | Splitting</b>\n",
    "</span></br>"
   ]
  },
  {
   "cell_type": "code",
   "execution_count": 85,
   "id": "509a6b80-7c3a-4314-b8c6-b76689cda04d",
   "metadata": {},
   "outputs": [],
   "source": [
    "arr1 = np.array([ (21, 24.17), (74.10, 85.4) ])\n",
    "arr2 =np.array([ (110.2, 142.5) ])"
   ]
  },
  {
   "cell_type": "code",
   "execution_count": 86,
   "id": "bd18dc84-b663-49a4-bd07-97b993e128dd",
   "metadata": {},
   "outputs": [
    {
     "data": {
      "text/plain": [
       "array([[ 21.  ,  24.17],\n",
       "       [ 74.1 ,  85.4 ],\n",
       "       [110.2 , 142.5 ]])"
      ]
     },
     "execution_count": 86,
     "metadata": {},
     "output_type": "execute_result"
    }
   ],
   "source": [
    "# Adds arr2 as rows to the end of arr1\n",
    "np.concatenate((arr1, arr2), axis=0)"
   ]
  },
  {
   "cell_type": "code",
   "execution_count": 88,
   "id": "b6ed7930-50c4-4c9d-a631-bf3a425118f2",
   "metadata": {},
   "outputs": [
    {
     "data": {
      "text/plain": [
       "array([[ 21.  ,  24.17, 110.2 ],\n",
       "       [ 74.1 ,  85.4 , 142.5 ]])"
      ]
     },
     "execution_count": 88,
     "metadata": {},
     "output_type": "execute_result"
    }
   ],
   "source": [
    "# Adds arr2 as columns to the end of arr1\n",
    "np.concatenate((arr1, arr2.T), axis=1)"
   ]
  },
  {
   "cell_type": "code",
   "execution_count": 91,
   "id": "a7fb7643-eca4-4af1-8889-92f66b05dcc8",
   "metadata": {},
   "outputs": [
    {
     "data": {
      "text/plain": [
       "[array([[2, 4, 6]]),\n",
       " array([[10, 14, 21]]),\n",
       " array([[41, 58, 74]]),\n",
       " array([[ 99, 101, 125]])]"
      ]
     },
     "execution_count": 91,
     "metadata": {},
     "output_type": "execute_result"
    }
   ],
   "source": [
    "# split arr in 4 subarrays\n",
    "np.split(arr, 4)"
   ]
  },
  {
   "cell_type": "markdown",
   "id": "d7cd1481-c42e-48a7-9622-d00320c308fa",
   "metadata": {},
   "source": [
    "<span style=\"font-size:25px; color:#f88a09\">\n",
    "    <b>Indexing | Slicing</b>\n",
    "</span></br>"
   ]
  },
  {
   "cell_type": "code",
   "execution_count": 102,
   "id": "9d43183b-f679-4105-a9af-7089ce3d999e",
   "metadata": {},
   "outputs": [
    {
     "data": {
      "text/plain": [
       "array([[21, 24, 27],\n",
       "       [10, 20, 30],\n",
       "       [ 4,  8, 16],\n",
       "       [ 2,  4,  6],\n",
       "       [ 3,  6,  9]])"
      ]
     },
     "execution_count": 102,
     "metadata": {},
     "output_type": "execute_result"
    }
   ],
   "source": [
    "arr = np.array( [ (21, 24, 27), (10, 20, 30), (4, 8, 16), (2, 4, 6), (3, 6, 9) ] )\n",
    "arr"
   ]
  },
  {
   "cell_type": "code",
   "execution_count": 96,
   "id": "900906a3-7d06-4d13-8950-f786b15c6d34",
   "metadata": {},
   "outputs": [
    {
     "data": {
      "text/plain": [
       "array([21, 24, 27])"
      ]
     },
     "execution_count": 96,
     "metadata": {},
     "output_type": "execute_result"
    }
   ],
   "source": [
    "# returns elements of index 0\n",
    "arr[0]"
   ]
  },
  {
   "cell_type": "code",
   "execution_count": 98,
   "id": "9c136004-8a1c-42e2-89b7-a81582b883eb",
   "metadata": {},
   "outputs": [
    {
     "data": {
      "text/plain": [
       "30"
      ]
     },
     "execution_count": 98,
     "metadata": {},
     "output_type": "execute_result"
    }
   ],
   "source": [
    "# returns the 2D array element of index [1][2]\n",
    "arr[1][2]"
   ]
  },
  {
   "cell_type": "code",
   "execution_count": 99,
   "id": "005a0363-8dd4-40d8-914a-b83299e3f776",
   "metadata": {},
   "outputs": [
    {
     "data": {
      "text/plain": [
       "array([[21, 24, 27],\n",
       "       [10, 20, 30],\n",
       "       [ 4,  8, 16]])"
      ]
     },
     "execution_count": 99,
     "metadata": {},
     "output_type": "execute_result"
    }
   ],
   "source": [
    "# return the rows 0, 1, 2\n",
    "arr[0:3]"
   ]
  },
  {
   "cell_type": "code",
   "execution_count": 106,
   "id": "7dd6240c-a385-4b8b-b198-3b41ee2f7c2e",
   "metadata": {},
   "outputs": [
    {
     "data": {
      "text/plain": [
       "array([[21, 24],\n",
       "       [10, 20],\n",
       "       [ 4,  8],\n",
       "       [ 2,  4],\n",
       "       [ 3,  6]])"
      ]
     },
     "execution_count": 106,
     "metadata": {},
     "output_type": "execute_result"
    }
   ],
   "source": [
    "# returns all rows and column 0, 1\n",
    "arr[:, 0:2]"
   ]
  },
  {
   "cell_type": "markdown",
   "id": "2be49f07-8aea-4b8e-a873-d7103945c2f2",
   "metadata": {},
   "source": [
    "<span style=\"font-size:25px; color:#f88a09\">\n",
    "    <b>Scalar Math</b>\n",
    "</span></br>"
   ]
  },
  {
   "cell_type": "code",
   "execution_count": 108,
   "id": "cac31d5a-2510-446a-9065-f171b8513a93",
   "metadata": {},
   "outputs": [
    {
     "data": {
      "text/plain": [
       "array([3, 4, 5])"
      ]
     },
     "execution_count": 108,
     "metadata": {},
     "output_type": "execute_result"
    }
   ],
   "source": [
    "# sum\n",
    "a +2"
   ]
  },
  {
   "cell_type": "code",
   "execution_count": 109,
   "id": "6c2cfde8-7fdb-4e00-bebf-0802e6aa8b2d",
   "metadata": {},
   "outputs": [
    {
     "data": {
      "text/plain": [
       "array([-9, -8, -7])"
      ]
     },
     "execution_count": 109,
     "metadata": {},
     "output_type": "execute_result"
    }
   ],
   "source": [
    "# rest\n",
    "a - 10"
   ]
  },
  {
   "cell_type": "code",
   "execution_count": 110,
   "id": "d3b1b7c4-eb1e-4ba8-bc82-283bfee91a6e",
   "metadata": {},
   "outputs": [
    {
     "data": {
      "text/plain": [
       "array([2.5, 5. , 7.5])"
      ]
     },
     "execution_count": 110,
     "metadata": {},
     "output_type": "execute_result"
    }
   ],
   "source": [
    "# multiplication\n",
    "a * 2.5"
   ]
  },
  {
   "cell_type": "code",
   "execution_count": 111,
   "id": "60eca9ea-e124-4e16-ba61-bee963dd1649",
   "metadata": {},
   "outputs": [
    {
     "data": {
      "text/plain": [
       "array([0.25, 0.5 , 0.75])"
      ]
     },
     "execution_count": 111,
     "metadata": {},
     "output_type": "execute_result"
    }
   ],
   "source": [
    "# division\n",
    "a / 4"
   ]
  },
  {
   "cell_type": "code",
   "execution_count": 112,
   "id": "d873cf80-d833-440e-a1c0-abe3aeba7856",
   "metadata": {},
   "outputs": [
    {
     "data": {
      "text/plain": [
       "array([1, 4, 9])"
      ]
     },
     "execution_count": 112,
     "metadata": {},
     "output_type": "execute_result"
    }
   ],
   "source": [
    "# power\n",
    "a ** 2"
   ]
  },
  {
   "cell_type": "markdown",
   "id": "21acf4f0-52dc-4643-82b7-9549aae3cbe6",
   "metadata": {},
   "source": [
    "<span style=\"font-size:25px; color:#f88a09\">\n",
    "    <b>Vector Math</b>\n",
    "</span></br>"
   ]
  },
  {
   "cell_type": "code",
   "execution_count": 113,
   "id": "a2c5c24a-cf90-48e2-88cc-0536adbf0cf5",
   "metadata": {},
   "outputs": [
    {
     "data": {
      "text/plain": [
       "array([[131.2 , 166.67],\n",
       "       [184.3 , 227.9 ]])"
      ]
     },
     "execution_count": 113,
     "metadata": {},
     "output_type": "execute_result"
    }
   ],
   "source": [
    "# sum\n",
    "np.add(arr1, arr2)"
   ]
  },
  {
   "cell_type": "code",
   "execution_count": 114,
   "id": "ca9e1621-8c32-46f0-ab24-c7e7478fc9fe",
   "metadata": {},
   "outputs": [
    {
     "data": {
      "text/plain": [
       "array([[ -89.2 , -118.33],\n",
       "       [ -36.1 ,  -57.1 ]])"
      ]
     },
     "execution_count": 114,
     "metadata": {},
     "output_type": "execute_result"
    }
   ],
   "source": [
    "# rest\n",
    "np.subtract(arr1, arr2)"
   ]
  },
  {
   "cell_type": "code",
   "execution_count": 118,
   "id": "06f91120-57a4-4a51-bca7-bf0b9b02aef3",
   "metadata": {},
   "outputs": [
    {
     "data": {
      "text/plain": [
       "array([[ 2314.2  ,  2663.534],\n",
       "       [10559.25 , 12169.5  ]])"
      ]
     },
     "execution_count": 118,
     "metadata": {},
     "output_type": "execute_result"
    }
   ],
   "source": [
    "# ,ultiplication\n",
    "np.multiply(arr1, arr2.T)"
   ]
  },
  {
   "cell_type": "code",
   "execution_count": 119,
   "id": "c651ab89-930d-4a9a-86b7-15ca6e639c3a",
   "metadata": {},
   "outputs": [
    {
     "data": {
      "text/plain": [
       "array([[4.58257569, 4.89897949, 5.19615242],\n",
       "       [3.16227766, 4.47213595, 5.47722558],\n",
       "       [2.        , 2.82842712, 4.        ],\n",
       "       [1.41421356, 2.        , 2.44948974],\n",
       "       [1.73205081, 2.44948974, 3.        ]])"
      ]
     },
     "execution_count": 119,
     "metadata": {},
     "output_type": "execute_result"
    }
   ],
   "source": [
    "# sqrt\n",
    "np.sqrt(arr)"
   ]
  },
  {
   "cell_type": "code",
   "execution_count": 120,
   "id": "5f5f50ae-7920-47f2-aa32-ab3be19f2f20",
   "metadata": {},
   "outputs": [
    {
     "data": {
      "text/plain": [
       "array([[ 0.83665564, -0.90557836,  0.95637593],\n",
       "       [-0.54402111,  0.91294525, -0.98803162],\n",
       "       [-0.7568025 ,  0.98935825, -0.28790332],\n",
       "       [ 0.90929743, -0.7568025 , -0.2794155 ],\n",
       "       [ 0.14112001, -0.2794155 ,  0.41211849]])"
      ]
     },
     "execution_count": 120,
     "metadata": {},
     "output_type": "execute_result"
    }
   ],
   "source": [
    "# sim\n",
    "np.sin(arr)"
   ]
  },
  {
   "cell_type": "code",
   "execution_count": 121,
   "id": "15efcfa2-238c-442f-903a-b2a874d9ba47",
   "metadata": {},
   "outputs": [
    {
     "data": {
      "text/plain": [
       "array([[3.04452244, 3.18511219],\n",
       "       [4.30541553, 4.4473461 ]])"
      ]
     },
     "execution_count": 121,
     "metadata": {},
     "output_type": "execute_result"
    }
   ],
   "source": [
    "# log\n",
    "np.log(arr1)"
   ]
  },
  {
   "cell_type": "markdown",
   "id": "d4a7f5dd-6589-4bdd-899a-76b6b0da07c8",
   "metadata": {},
   "source": [
    "<span style=\"font-size:25px; color:#f88a09\">\n",
    "    <b>Statistics</b>\n",
    "</span></br>"
   ]
  },
  {
   "cell_type": "code",
   "execution_count": 122,
   "id": "f3ded924-d6e8-4a34-bdf5-d935b4f1b7d6",
   "metadata": {},
   "outputs": [
    {
     "data": {
      "text/plain": [
       "12.666666666666666"
      ]
     },
     "execution_count": 122,
     "metadata": {},
     "output_type": "execute_result"
    }
   ],
   "source": [
    "# mean of array\n",
    "np.mean(arr)"
   ]
  },
  {
   "cell_type": "code",
   "execution_count": 123,
   "id": "9004122e-4ccf-4ca4-ba2e-47374a2dfae5",
   "metadata": {},
   "outputs": [
    {
     "data": {
      "text/plain": [
       "83.82222222222221"
      ]
     },
     "execution_count": 123,
     "metadata": {},
     "output_type": "execute_result"
    }
   ],
   "source": [
    "# variance of array\n",
    "np.var(arr)"
   ]
  },
  {
   "cell_type": "code",
   "execution_count": 124,
   "id": "b5539a7f-dd77-4741-9ee0-413c91d47b18",
   "metadata": {},
   "outputs": [
    {
     "data": {
      "text/plain": [
       "9.155447680054875"
      ]
     },
     "execution_count": 124,
     "metadata": {},
     "output_type": "execute_result"
    }
   ],
   "source": [
    "# standard deviation\n",
    "np.std(arr)"
   ]
  },
  {
   "cell_type": "code",
   "execution_count": 126,
   "id": "2a84418c-6b32-407a-b198-7c12a3e075f8",
   "metadata": {},
   "outputs": [
    {
     "data": {
      "text/plain": [
       "190"
      ]
     },
     "execution_count": 126,
     "metadata": {},
     "output_type": "execute_result"
    }
   ],
   "source": [
    "# sum of all elements\n",
    "np.sum(arr)"
   ]
  },
  {
   "cell_type": "code",
   "execution_count": 127,
   "id": "e88fec5d-bc4c-46b9-a5ed-f4052df4166a",
   "metadata": {},
   "outputs": [
    {
     "data": {
      "text/plain": [
       "2"
      ]
     },
     "execution_count": 127,
     "metadata": {},
     "output_type": "execute_result"
    }
   ],
   "source": [
    "# minimun value\n",
    "np.min(arr)"
   ]
  },
  {
   "cell_type": "code",
   "execution_count": 128,
   "id": "8b44ed7f-d5f4-414d-8f51-7307264b29d1",
   "metadata": {},
   "outputs": [
    {
     "data": {
      "text/plain": [
       "30"
      ]
     },
     "execution_count": 128,
     "metadata": {},
     "output_type": "execute_result"
    }
   ],
   "source": [
    "# maximun value\n",
    "np.max(arr)"
   ]
  },
  {
   "cell_type": "code",
   "execution_count": 131,
   "id": "0bf0a8ce-699d-46c1-bb1c-18170ee25235",
   "metadata": {},
   "outputs": [
    {
     "data": {
      "text/plain": [
       "array([[1.        , 1.        , 0.98198051, 1.        , 1.        ],\n",
       "       [1.        , 1.        , 0.98198051, 1.        , 1.        ],\n",
       "       [0.98198051, 0.98198051, 1.        , 0.98198051, 0.98198051],\n",
       "       [1.        , 1.        , 0.98198051, 1.        , 1.        ],\n",
       "       [1.        , 1.        , 0.98198051, 1.        , 1.        ]])"
      ]
     },
     "execution_count": 131,
     "metadata": {},
     "output_type": "execute_result"
    }
   ],
   "source": [
    "# coefficients correlation\n",
    "np.corrcoef(arr)"
   ]
  },
  {
   "cell_type": "code",
   "execution_count": 133,
   "id": "edf39c2f-4d5b-417f-9553-29de4fc2c58b",
   "metadata": {},
   "outputs": [
    {
     "data": {
      "text/plain": [
       "9.0"
      ]
     },
     "execution_count": 133,
     "metadata": {},
     "output_type": "execute_result"
    }
   ],
   "source": [
    "# percentiles\n",
    "np.percentile(arr, 50)"
   ]
  },
  {
   "cell_type": "code",
   "execution_count": 142,
   "id": "528b4fd4-8ecb-478a-89ad-f0aaa85995e5",
   "metadata": {},
   "outputs": [
    {
     "data": {
      "text/plain": [
       "10.0"
      ]
     },
     "execution_count": 142,
     "metadata": {},
     "output_type": "execute_result"
    }
   ],
   "source": [
    "# quantile\n",
    "np.quantile(arr, 0.25)"
   ]
  },
  {
   "cell_type": "code",
   "execution_count": null,
   "id": "2bb16d4f-1944-4aa0-9d82-94452b6bb351",
   "metadata": {},
   "outputs": [],
   "source": []
  }
 ],
 "metadata": {
  "kernelspec": {
   "display_name": "aivenv",
   "language": "python",
   "name": "aivenv"
  },
  "language_info": {
   "codemirror_mode": {
    "name": "ipython",
    "version": 3
   },
   "file_extension": ".py",
   "mimetype": "text/x-python",
   "name": "python",
   "nbconvert_exporter": "python",
   "pygments_lexer": "ipython3",
   "version": "3.8.10"
  }
 },
 "nbformat": 4,
 "nbformat_minor": 5
}
