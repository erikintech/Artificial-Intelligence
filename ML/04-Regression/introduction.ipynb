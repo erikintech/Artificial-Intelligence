{
 "cells": [
  {
   "cell_type": "markdown",
   "id": "90164f50-e02e-4520-a2d2-d9e80237824d",
   "metadata": {},
   "source": [
    "# <div align=center> **Regression** </div> "
   ]
  },
  {
   "cell_type": "markdown",
   "id": "90dcdf75-09ea-47e7-ab74-fbcffb75eff0",
   "metadata": {},
   "source": [
    "## **Definition**\n",
    "\n",
    "- Linear regression is an algorithm that provides a linear relationship between a independent variable and a dependent variable to predict the outcome of future events.\n",
    "\n",
    "#### **Types of regression**\n",
    "- Simple Regression\n",
    "   - **Only one independent variable (x)**\n",
    "   - Simple Linear Regression\n",
    "   - Simple Non-Linear Regression\n",
    "- Multiple Linear REgression\n",
    "   - **Two or more independent variables (x)**\n",
    "   - Multiple Linear REgression\n",
    "   - Multiple Non-Linear Regression\n",
    "   \n",
    "#### **Applications of REgression**\n",
    "- Sales forecasting\n",
    "- Satisfaction analysis\n",
    "- Price estimator\n",
    "- Employment income\n",
    "\n",
    "#### **Regression Algorithms**\n",
    "- Ordinal regression\n",
    "- Poisson regression\n",
    "- Fast forest quantile regression\n",
    "- Linear, Polynomial, Lasso, Stepwise, Ridge regression\n",
    "- Bayesian linear regression\n",
    "- Neural network regression\n",
    "- Decision forest regression\n",
    "- Support vector machine regression\n",
    "- Boosted decision tree regression"
   ]
  },
  {
   "cell_type": "markdown",
   "id": "c55bfd7c-ded4-4bc8-8423-10a639ac07c9",
   "metadata": {},
   "source": [
    "## **Evaluation Methods in Regression**"
   ]
  },
  {
   "cell_type": "markdown",
   "id": "615b656c-f6ea-4c41-913b-b2390e6572b9",
   "metadata": {},
   "source": [
    "**Mean Absolute Error**\n",
    "$$\n",
    "    MAE=\\frac{1}{n}\\sum_{i=1}^n |\\hat y_1 - y_1|\n",
    "$$\n",
    "\n",
    "**Mean Squared Error**\n",
    "$$\n",
    "    MSE=\\frac{1}{n}\\sum_{i=1}^n(\\hat y_1 - y_1)^2\n",
    "$$\n",
    "\n",
    "**Root Mean Squared Error (RMSE)**\n",
    "\n",
    "$$\n",
    "    RMSE=\\sqrt{\\frac{1}{n}\\sum_{i=1}^n(\\hat y_1 - y_1)^2}\n",
    "$$\n",
    "\n",
    "**Relative Absolute Error**\n",
    "\n",
    "$$\n",
    "    RAE=\\frac{\\sum_{j=1}^n|y_{j}-\\hat{y_j}|}{\\sum_{j=1}^{n}|y_j - \\overline{y}|}\n",
    "$$\n",
    "\n",
    "**Relative Squared Error**\n",
    "$$\n",
    "    RAE=\\frac{\\sum_{j=1}^n(y_{j}-\\hat{y_j})^2}{\\sum_{j=1}^{n}(y_j - \\overline{y})^2}\n",
    "$$\n",
    "\n",
    "**R-squared**\n",
    "$$\n",
    "    R^{2} = 1-RSE\n",
    "$$\n"
   ]
  },
  {
   "cell_type": "markdown",
   "id": "677c3485-1f35-4c31-bb05-809d0f310331",
   "metadata": {},
   "source": [
    "## **Feature Engineering in Regression**\n",
    "\n",
    "Some clarifications: \n",
    "\n",
    "* Feature encoding\n",
    "   * In general only OneHotEncoding is necessary \n",
    "* Feature Selection\n",
    "   * We can use correlation for selecting features\n",
    "* Feature Scaling\n",
    "   * Min-Max scaling if data is skewed\n",
    "   * StandardScaling if data has a simetry of 0 or it is a Gaussian distribution"
   ]
  },
  {
   "cell_type": "code",
   "execution_count": null,
   "id": "e9187f46-d5f1-443f-9351-28b06083a295",
   "metadata": {},
   "outputs": [],
   "source": []
  }
 ],
 "metadata": {
  "kernelspec": {
   "display_name": "aivenv",
   "language": "python",
   "name": "aivenv"
  },
  "language_info": {
   "codemirror_mode": {
    "name": "ipython",
    "version": 3
   },
   "file_extension": ".py",
   "mimetype": "text/x-python",
   "name": "python",
   "nbconvert_exporter": "python",
   "pygments_lexer": "ipython3",
   "version": "3.8.10"
  }
 },
 "nbformat": 4,
 "nbformat_minor": 5
}
