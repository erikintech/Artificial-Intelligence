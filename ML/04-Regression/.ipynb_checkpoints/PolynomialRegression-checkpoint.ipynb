{
 "cells": [
  {
   "cell_type": "markdown",
   "id": "1ad0425e-4adc-4359-aece-2817d8dd09c2",
   "metadata": {},
   "source": [
    "# **Polynomial Regression**\n",
    "\n",
    "It is a form of regression analysis in wich the relationship between the independent variable X and dependent variable *y* is modelled as an nth degree polynomial in X.\n",
    "\n",
    "$$\n",
    "    \\hat y = \\beta_0 +\\beta_1X_1 + \\beta_2X_2^2+...+\\beta_kX_i^k\n",
    "$$\n",
    "\n",
    "The polynomial regression is used to improve the performance of our linear regression model."
   ]
  },
  {
   "cell_type": "markdown",
   "id": "dca6ac53-c512-446b-a0c0-6a1abfa34708",
   "metadata": {},
   "source": [
    "**Imports**"
   ]
  },
  {
   "cell_type": "code",
   "execution_count": 1,
   "id": "3337e113-074a-41ed-87ca-e81031722bdf",
   "metadata": {},
   "outputs": [],
   "source": [
    "import numpy as np\n",
    "import pandas as pd\n",
    "import matplotlib.pyplot as plt\n",
    "import seaborn as sns"
   ]
  },
  {
   "cell_type": "code",
   "execution_count": 2,
   "id": "5c8f2728-fa32-44b9-a91c-2878d3c19356",
   "metadata": {},
   "outputs": [],
   "source": [
    "df = pd.read_csv('../datasets/Adversiting.csv')"
   ]
  },
  {
   "cell_type": "code",
   "execution_count": 5,
   "id": "348b8e36-aa9d-495b-83bf-69c86e186937",
   "metadata": {},
   "outputs": [
    {
     "data": {
      "text/html": [
       "<div>\n",
       "<style scoped>\n",
       "    .dataframe tbody tr th:only-of-type {\n",
       "        vertical-align: middle;\n",
       "    }\n",
       "\n",
       "    .dataframe tbody tr th {\n",
       "        vertical-align: top;\n",
       "    }\n",
       "\n",
       "    .dataframe thead th {\n",
       "        text-align: right;\n",
       "    }\n",
       "</style>\n",
       "<table border=\"1\" class=\"dataframe\">\n",
       "  <thead>\n",
       "    <tr style=\"text-align: right;\">\n",
       "      <th></th>\n",
       "      <th>ID</th>\n",
       "      <th>TV</th>\n",
       "      <th>Radio</th>\n",
       "      <th>Newspaper</th>\n",
       "      <th>Sales</th>\n",
       "    </tr>\n",
       "  </thead>\n",
       "  <tbody>\n",
       "    <tr>\n",
       "      <th>0</th>\n",
       "      <td>1</td>\n",
       "      <td>230.1</td>\n",
       "      <td>37.8</td>\n",
       "      <td>69.2</td>\n",
       "      <td>22.1</td>\n",
       "    </tr>\n",
       "    <tr>\n",
       "      <th>1</th>\n",
       "      <td>2</td>\n",
       "      <td>44.5</td>\n",
       "      <td>39.3</td>\n",
       "      <td>45.1</td>\n",
       "      <td>10.4</td>\n",
       "    </tr>\n",
       "    <tr>\n",
       "      <th>2</th>\n",
       "      <td>3</td>\n",
       "      <td>17.2</td>\n",
       "      <td>45.9</td>\n",
       "      <td>69.3</td>\n",
       "      <td>9.3</td>\n",
       "    </tr>\n",
       "    <tr>\n",
       "      <th>3</th>\n",
       "      <td>4</td>\n",
       "      <td>151.5</td>\n",
       "      <td>41.3</td>\n",
       "      <td>58.5</td>\n",
       "      <td>18.5</td>\n",
       "    </tr>\n",
       "    <tr>\n",
       "      <th>4</th>\n",
       "      <td>5</td>\n",
       "      <td>180.8</td>\n",
       "      <td>10.8</td>\n",
       "      <td>58.4</td>\n",
       "      <td>12.9</td>\n",
       "    </tr>\n",
       "  </tbody>\n",
       "</table>\n",
       "</div>"
      ],
      "text/plain": [
       "   ID     TV  Radio  Newspaper  Sales\n",
       "0   1  230.1   37.8       69.2   22.1\n",
       "1   2   44.5   39.3       45.1   10.4\n",
       "2   3   17.2   45.9       69.3    9.3\n",
       "3   4  151.5   41.3       58.5   18.5\n",
       "4   5  180.8   10.8       58.4   12.9"
      ]
     },
     "execution_count": 5,
     "metadata": {},
     "output_type": "execute_result"
    }
   ],
   "source": [
    "df.head()"
   ]
  },
  {
   "cell_type": "code",
   "execution_count": 6,
   "id": "42c0223e-9f45-4755-91cf-114d4b9858c4",
   "metadata": {},
   "outputs": [],
   "source": [
    "df = df.drop('ID', axis=1)"
   ]
  },
  {
   "cell_type": "markdown",
   "id": "f1e82bf7-0dc8-4ab5-b065-99ff7dc26984",
   "metadata": {},
   "source": [
    "### **Linear Regression**"
   ]
  },
  {
   "cell_type": "code",
   "execution_count": 7,
   "id": "cb121c93-f7a6-4674-8346-e6836d2d20ef",
   "metadata": {},
   "outputs": [],
   "source": [
    "from sklearn.model_selection import train_test_split"
   ]
  },
  {
   "cell_type": "code",
   "execution_count": 8,
   "id": "c301e82c-9f5a-4207-b252-806a227b539c",
   "metadata": {},
   "outputs": [],
   "source": [
    "X = df.drop('Sales', axis=1)\n",
    "y = df.Sales"
   ]
  },
  {
   "cell_type": "code",
   "execution_count": 9,
   "id": "71696102-3128-490e-8afe-1136a6fb274b",
   "metadata": {},
   "outputs": [],
   "source": [
    "X_train, X_test, y_train, y_test = train_test_split(X, y, test_size=0.2, random_state=1)"
   ]
  },
  {
   "cell_type": "code",
   "execution_count": 10,
   "id": "e8b74aea-3496-4a5d-9dcf-35fd4f036c45",
   "metadata": {},
   "outputs": [],
   "source": [
    "from sklearn.linear_model import LinearRegression"
   ]
  },
  {
   "cell_type": "code",
   "execution_count": 11,
   "id": "0203a899-e0ff-4f90-94f2-38c352e4802a",
   "metadata": {},
   "outputs": [],
   "source": [
    "lin_reg = LinearRegression()"
   ]
  },
  {
   "cell_type": "code",
   "execution_count": 12,
   "id": "d10b067e-b69f-4341-97ee-42eb419aaa64",
   "metadata": {},
   "outputs": [],
   "source": [
    "model_trained = lin_reg.fit(X_train, y_train)"
   ]
  },
  {
   "cell_type": "code",
   "execution_count": 13,
   "id": "be8e21b0-95a2-4bb5-9457-34744d8e7ad0",
   "metadata": {},
   "outputs": [],
   "source": [
    "test_pred = model_trained.predict(X_test)"
   ]
  },
  {
   "cell_type": "markdown",
   "id": "3b57719c-c75c-499c-8db5-df05f4eb571e",
   "metadata": {},
   "source": [
    "**Evaluating Performance**"
   ]
  },
  {
   "cell_type": "code",
   "execution_count": 14,
   "id": "e1088761-26a3-49ea-9c2e-11660ca228af",
   "metadata": {},
   "outputs": [],
   "source": [
    "from sklearn.metrics import mean_absolute_error, mean_squared_error, r2_score"
   ]
  },
  {
   "cell_type": "code",
   "execution_count": 29,
   "id": "646377eb-17d1-4e08-b445-3de6123d4d46",
   "metadata": {},
   "outputs": [
    {
     "name": "stdout",
     "output_type": "stream",
     "text": [
      "MAE = 1.0402154012924716\n",
      "MSE = 1.9918855518287892\n",
      "RMSE = 1.4113417558581582\n",
      "R2 = 0.8927605914615384 \n",
      "Sales Mean = 14.0225 \n"
     ]
    }
   ],
   "source": [
    "print(f'MAE = { mean_absolute_error(y_test, test_pred) }')\n",
    "print(f'MSE = { mean_squared_error(test_pred, y_test) }')\n",
    "print(f'RMSE = { np.sqrt(mean_squared_error(test_pred, y_test)) }')\n",
    "print( f'R2 = {r2_score(y_test, test_pred)} ' )\n",
    "print( f'Sales Mean = { df.Sales.mean() } ' )"
   ]
  },
  {
   "cell_type": "code",
   "execution_count": 35,
   "id": "46e8dab5-2163-4ce5-87ed-6ca114aac5b4",
   "metadata": {},
   "outputs": [
    {
     "data": {
      "text/plain": [
       "[<matplotlib.lines.Line2D at 0x7fb19ee546d0>]"
      ]
     },
     "execution_count": 35,
     "metadata": {},
     "output_type": "execute_result"
    },
    {
     "data": {
      "image/png": "[encoded data removed]",
      "text/plain": [
       "<Figure size 432x288 with 1 Axes>"
      ]
     },
     "metadata": {
      "needs_background": "light"
     },
     "output_type": "display_data"
    }
   ],
   "source": [
    "plt.plot(range(len(y_test)), y_test)\n",
    "plt.plot(range(len(test_pred)), test_pred)"
   ]
  },
  {
   "cell_type": "markdown",
   "id": "114d60be-93a8-4c79-9669-65b0082d1e05",
   "metadata": {
    "tags": []
   },
   "source": [
    "## **Model with Polynomial Regression**"
   ]
  },
  {
   "cell_type": "markdown",
   "id": "49437d21-c241-40ee-a99e-24a9f4dfc7c0",
   "metadata": {},
   "source": [
    "**Create a polynomial converter**"
   ]
  },
  {
   "cell_type": "code",
   "execution_count": 20,
   "id": "45da7721-e5a8-40b9-aca6-45b900b74b95",
   "metadata": {},
   "outputs": [],
   "source": [
    "from sklearn.preprocessing import PolynomialFeatures"
   ]
  },
  {
   "cell_type": "code",
   "execution_count": 21,
   "id": "053c7cf6-c97d-4040-8109-0b762c2a2dd2",
   "metadata": {},
   "outputs": [],
   "source": [
    "poly_converter = PolynomialFeatures(degree=2, include_bias=False)"
   ]
  },
  {
   "cell_type": "code",
   "execution_count": 22,
   "id": "c8e4fe54-370e-49ec-822e-24b169c60c1b",
   "metadata": {},
   "outputs": [],
   "source": [
    "X_converted = poly_converter.fit_transform(X)"
   ]
  },
  {
   "cell_type": "code",
   "execution_count": 23,
   "id": "fbc5f29d-5b88-4ac7-af76-d2bfe9517cd0",
   "metadata": {},
   "outputs": [],
   "source": [
    "X_train, X_test, y_train, y_test = train_test_split(X_converted, y, test_size=0.2, random_state=1)"
   ]
  },
  {
   "cell_type": "code",
   "execution_count": 27,
   "id": "7dbf6959-bfbe-43bf-bd9d-0b73bf79ddb9",
   "metadata": {},
   "outputs": [
    {
     "data": {
      "text/plain": [
       "array([1.3100e+01, 4.0000e-01, 2.5600e+01, 1.7161e+02, 5.2400e+00,\n",
       "       3.3536e+02, 1.6000e-01, 1.0240e+01, 6.5536e+02])"
      ]
     },
     "execution_count": 27,
     "metadata": {},
     "output_type": "execute_result"
    }
   ],
   "source": [
    "# we had 3 features but when apllying polynomial converter we obtain 9 features\n",
    "X_train[0]"
   ]
  },
  {
   "cell_type": "code",
   "execution_count": 28,
   "id": "8eabe2f5-39bf-409c-b32b-919255904d9d",
   "metadata": {},
   "outputs": [],
   "source": [
    "lin_reg2 = LinearRegression()"
   ]
  },
  {
   "cell_type": "code",
   "execution_count": 30,
   "id": "52eef503-f150-4dc2-93db-ea89d7f91928",
   "metadata": {},
   "outputs": [],
   "source": [
    "model = lin_reg2.fit(X_train, y_train)"
   ]
  },
  {
   "cell_type": "code",
   "execution_count": 31,
   "id": "9ed476cd-2601-4ad6-bd3c-1faab16d655f",
   "metadata": {},
   "outputs": [],
   "source": [
    "y_pred = model.predict(X_test)"
   ]
  },
  {
   "cell_type": "code",
   "execution_count": 32,
   "id": "23ffb45d-e02e-4cdf-8bf5-9cfe0c764d11",
   "metadata": {},
   "outputs": [
    {
     "name": "stdout",
     "output_type": "stream",
     "text": [
      "MAE = 0.3809965386387416\n",
      "MSE = 0.23175724061509878\n",
      "RMSE = 0.48141171632512103\n",
      "R2 = 0.9875226217765118 \n",
      "Sales Mean = 14.0225 \n"
     ]
    }
   ],
   "source": [
    "print(f'MAE = { mean_absolute_error(y_test, y_pred) }')\n",
    "print(f'MSE = { mean_squared_error(y_test, y_pred) }')\n",
    "print(f'RMSE = { np.sqrt(mean_squared_error(y_test, y_pred)) }')\n",
    "print( f'R2 = {r2_score(y_test, y_pred)} ' )\n",
    "print( f'Sales Mean = { df.Sales.mean() } ' )"
   ]
  },
  {
   "cell_type": "code",
   "execution_count": 37,
   "id": "797af383-e635-42d8-90b7-95d66d33b20c",
   "metadata": {},
   "outputs": [
    {
     "data": {
      "text/plain": [
       "[<matplotlib.lines.Line2D at 0x7fb19ed336a0>]"
      ]
     },
     "execution_count": 37,
     "metadata": {},
     "output_type": "execute_result"
    },
    {
     "data": {
      "image/png": "[encoded data removed]",
      "text/plain": [
       "<Figure size 432x288 with 1 Axes>"
      ]
     },
     "metadata": {
      "needs_background": "light"
     },
     "output_type": "display_data"
    }
   ],
   "source": [
    "plt.plot(range(len(y_test)), y_test)\n",
    "plt.plot(range(len(y_pred)), y_pred)"
   ]
  },
  {
   "cell_type": "markdown",
   "id": "30a8ae88-836c-4108-b842-8f4b792c1ed5",
   "metadata": {},
   "source": [
    "If we compare the metrics between a normal Linear Regression and Polynomial Regression we can see that the model with poynomial regression in this case is better."
   ]
  },
  {
   "cell_type": "code",
   "execution_count": null,
   "id": "4e8a21e3-5998-420e-bbf6-dc2f51a74a96",
   "metadata": {},
   "outputs": [],
   "source": []
  },
  {
   "cell_type": "code",
   "execution_count": null,
   "id": "ddfde53a-ca52-4f94-ad1e-490af050039b",
   "metadata": {},
   "outputs": [],
   "source": []
  }
 ],
 "metadata": {
  "kernelspec": {
   "display_name": "aivenv",
   "language": "python",
   "name": "aivenv"
  },
  "language_info": {
   "codemirror_mode": {
    "name": "ipython",
    "version": 3
   },
   "file_extension": ".py",
   "mimetype": "text/x-python",
   "name": "python",
   "nbconvert_exporter": "python",
   "pygments_lexer": "ipython3",
   "version": "3.8.10"
  }
 },
 "nbformat": 4,
 "nbformat_minor": 5
}
