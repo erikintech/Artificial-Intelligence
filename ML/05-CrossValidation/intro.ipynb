{
 "cells": [
  {
   "cell_type": "markdown",
   "id": "5776e94d-6107-4c59-ae97-eed0aa6df18f",
   "metadata": {},
   "source": [
    "<span style=\"color:orange; font-size:40px;\">\n",
    "    <div align=center><b>Cross-Validation</b></div>\n",
    "</span>"
   ]
  },
  {
   "cell_type": "markdown",
   "id": "49b05f02-1675-4b56-a823-5cf9367d2b8f",
   "metadata": {},
   "source": [
    "Cross Validation is a statistical method to evaluate the performance of a machine learning model before they are put to use.\n",
    "\n",
    "We have some ways to perform cross validation:\n",
    "- **Hold out method**\n",
    "- **Leave One Out Cross-Validation**\n",
    "- **K-fold Cross-Validation**\n",
    "- **Stratified K-fold Cross-Validation**"
   ]
  },
  {
   "cell_type": "markdown",
   "id": "7e034340-77e2-4a88-b270-df8720c1f643",
   "metadata": {},
   "source": [
    "<span style=\"color:cyan; font-size:30px\">\n",
    "    <b>Import Libraries</b>\n",
    "</span>"
   ]
  },
  {
   "cell_type": "code",
   "execution_count": 3,
   "id": "f4fff14d-6151-49b8-867f-302b0c764e13",
   "metadata": {},
   "outputs": [],
   "source": [
    "import numpy as np\n",
    "import pandas as pd"
   ]
  },
  {
   "cell_type": "code",
   "execution_count": 3,
   "id": "f323e293-0c5d-48db-aabe-d7052c84121b",
   "metadata": {},
   "outputs": [
    {
     "data": {
      "text/html": [
       "<div>\n",
       "<style scoped>\n",
       "    .dataframe tbody tr th:only-of-type {\n",
       "        vertical-align: middle;\n",
       "    }\n",
       "\n",
       "    .dataframe tbody tr th {\n",
       "        vertical-align: top;\n",
       "    }\n",
       "\n",
       "    .dataframe thead th {\n",
       "        text-align: right;\n",
       "    }\n",
       "</style>\n",
       "<table border=\"1\" class=\"dataframe\">\n",
       "  <thead>\n",
       "    <tr style=\"text-align: right;\">\n",
       "      <th></th>\n",
       "      <th>ID</th>\n",
       "      <th>TV</th>\n",
       "      <th>Radio</th>\n",
       "      <th>Newspaper</th>\n",
       "      <th>Sales</th>\n",
       "    </tr>\n",
       "  </thead>\n",
       "  <tbody>\n",
       "    <tr>\n",
       "      <th>0</th>\n",
       "      <td>1</td>\n",
       "      <td>230.1</td>\n",
       "      <td>37.8</td>\n",
       "      <td>69.2</td>\n",
       "      <td>22.1</td>\n",
       "    </tr>\n",
       "    <tr>\n",
       "      <th>1</th>\n",
       "      <td>2</td>\n",
       "      <td>44.5</td>\n",
       "      <td>39.3</td>\n",
       "      <td>45.1</td>\n",
       "      <td>10.4</td>\n",
       "    </tr>\n",
       "    <tr>\n",
       "      <th>2</th>\n",
       "      <td>3</td>\n",
       "      <td>17.2</td>\n",
       "      <td>45.9</td>\n",
       "      <td>69.3</td>\n",
       "      <td>9.3</td>\n",
       "    </tr>\n",
       "    <tr>\n",
       "      <th>3</th>\n",
       "      <td>4</td>\n",
       "      <td>151.5</td>\n",
       "      <td>41.3</td>\n",
       "      <td>58.5</td>\n",
       "      <td>18.5</td>\n",
       "    </tr>\n",
       "    <tr>\n",
       "      <th>4</th>\n",
       "      <td>5</td>\n",
       "      <td>180.8</td>\n",
       "      <td>10.8</td>\n",
       "      <td>58.4</td>\n",
       "      <td>12.9</td>\n",
       "    </tr>\n",
       "  </tbody>\n",
       "</table>\n",
       "</div>"
      ],
      "text/plain": [
       "   ID     TV  Radio  Newspaper  Sales\n",
       "0   1  230.1   37.8       69.2   22.1\n",
       "1   2   44.5   39.3       45.1   10.4\n",
       "2   3   17.2   45.9       69.3    9.3\n",
       "3   4  151.5   41.3       58.5   18.5\n",
       "4   5  180.8   10.8       58.4   12.9"
      ]
     },
     "execution_count": 3,
     "metadata": {},
     "output_type": "execute_result"
    }
   ],
   "source": [
    "adversiting.head()"
   ]
  },
  {
   "cell_type": "markdown",
   "id": "ec370f49-b076-4179-9cdd-08d8718b1557",
   "metadata": {},
   "source": [
    "<span style=\"color:cyan; font-size:30px\">\n",
    "    <b>Hold Out</b>\n",
    "</span>\n",
    "\n",
    "<div align=center><img src='./img/hocv.png'/></div>\n",
    "\n",
    "* Hold Out is a process of splitting an entire dataset into training set and test set, in general the proportion of splitting is 80% for training set and 20$ for testing set or 70%-30% depends on the large of dataset\n",
    "\n",
    "* The problem with this method is that sometimes important information can be discarded from training set and put into the testing set.\n",
    "\n",
    "* This method can be implemented using the ***train_test_split*** method from *Scikit-Learn* library\n",
    "\n",
    "* **Notte:** Hold out method is not a Cross-Validation method"
   ]
  },
  {
   "cell_type": "markdown",
   "id": "203d120e-f9ab-4ce2-9e1d-7e438a660097",
   "metadata": {},
   "source": [
    "<span style=\"color:cyan; font-size:20px\">\n",
    "    <b>Code Implementation</b>\n",
    "</span>"
   ]
  },
  {
   "cell_type": "code",
   "execution_count": 1,
   "id": "ee4d843b-71aa-4fa2-bdfa-2f6148c5535e",
   "metadata": {},
   "outputs": [
    {
     "name": "stdout",
     "output_type": "stream",
     "text": [
      "Train set size: 160\n",
      "Test set size: 40\n"
     ]
    }
   ],
   "source": [
    "from sklearn.model_selection import train_test_split\n",
    "\n",
    "# importing data\n",
    "data = pd.read_csv('../datasets/Adversiting.csv')\n",
    "\n",
    "# preview data\n",
    "data.head()\n",
    "\n",
    "# split data in features and target\n",
    "# features: TV, Radio, Newspaper | target -> Sales\n",
    "X = data.iloc[:, 1:4]\n",
    "y = data.iloc[:,-1]\n",
    "\n",
    "# Train | Test data split\n",
    "X_train, X_test, y_train, y_test = train_test_split(X, y, test_size=0.2, random_state=42)\n",
    "\n",
    "print( f'Train set size: {len(X_train)}' )\n",
    "print( f'Test set size: {len(X_test)}' )"
   ]
  },
  {
   "cell_type": "markdown",
   "id": "9239dffa-48de-41d9-9f3b-80a6cbe22b06",
   "metadata": {},
   "source": [
    "<span style=\"color:cyan; font-size:30px\">\n",
    "    <b>Leave One Out Cross-Validation | LOOCV</b>\n",
    "</span>\n",
    "\n",
    "<div align=center> <img src='./img/loocv.png' /></div>\n",
    "\n",
    "* LOOCV is a cross-validation method where a single observation or only one register is taken as test data and everything else is taken as training data.\n",
    "\n",
    "* This method doon't split the dataset in folds, only take an observation of the dataset for testing the model and the rest of data is taken for training the model model.\n",
    "* LOOCV it is computationally expensive\n",
    "* It is useful when we have small datasets"
   ]
  },
  {
   "cell_type": "markdown",
   "id": "6bb75a7a-15fd-4b4f-88d9-46d40ada6a31",
   "metadata": {},
   "source": [
    "<span style=\"color:cyan; font-size:20px\">\n",
    "    <b>Code Implementation</b>\n",
    "</span>"
   ]
  },
  {
   "cell_type": "code",
   "execution_count": 17,
   "id": "34550571-dab7-4ea1-b900-2862bb62f96c",
   "metadata": {},
   "outputs": [
    {
     "name": "stdout",
     "output_type": "stream",
     "text": [
      " Train: [ 20  30  40  50  60  70  80  90 100 110 120 130 140 150 160 170 180 190 200 210], Test: [10] \n",
      " Train: [ 10  30  40  50  60  70  80  90 100 110 120 130 140 150 160 170 180 190 200 210], Test: [20] \n",
      " Train: [ 10  20  40  50  60  70  80  90 100 110 120 130 140 150 160 170 180 190 200 210], Test: [30] \n",
      " Train: [ 10  20  30  50  60  70  80  90 100 110 120 130 140 150 160 170 180 190 200 210], Test: [40] \n",
      " Train: [ 10  20  30  40  60  70  80  90 100 110 120 130 140 150 160 170 180 190 200 210], Test: [50] \n",
      " Train: [ 10  20  30  40  50  70  80  90 100 110 120 130 140 150 160 170 180 190 200 210], Test: [60] \n",
      " Train: [ 10  20  30  40  50  60  80  90 100 110 120 130 140 150 160 170 180 190 200 210], Test: [70] \n",
      " Train: [ 10  20  30  40  50  60  70  90 100 110 120 130 140 150 160 170 180 190 200 210], Test: [80] \n",
      " Train: [ 10  20  30  40  50  60  70  80 100 110 120 130 140 150 160 170 180 190 200 210], Test: [90] \n",
      " Train: [ 10  20  30  40  50  60  70  80  90 110 120 130 140 150 160 170 180 190 200 210], Test: [100] \n",
      " Train: [ 10  20  30  40  50  60  70  80  90 100 120 130 140 150 160 170 180 190 200 210], Test: [110] \n",
      " Train: [ 10  20  30  40  50  60  70  80  90 100 110 130 140 150 160 170 180 190 200 210], Test: [120] \n",
      " Train: [ 10  20  30  40  50  60  70  80  90 100 110 120 140 150 160 170 180 190 200 210], Test: [130] \n",
      " Train: [ 10  20  30  40  50  60  70  80  90 100 110 120 130 150 160 170 180 190 200 210], Test: [140] \n",
      " Train: [ 10  20  30  40  50  60  70  80  90 100 110 120 130 140 160 170 180 190 200 210], Test: [150] \n",
      " Train: [ 10  20  30  40  50  60  70  80  90 100 110 120 130 140 150 170 180 190 200 210], Test: [160] \n",
      " Train: [ 10  20  30  40  50  60  70  80  90 100 110 120 130 140 150 160 180 190 200 210], Test: [170] \n",
      " Train: [ 10  20  30  40  50  60  70  80  90 100 110 120 130 140 150 160 170 190 200 210], Test: [180] \n",
      " Train: [ 10  20  30  40  50  60  70  80  90 100 110 120 130 140 150 160 170 180 200 210], Test: [190] \n",
      " Train: [ 10  20  30  40  50  60  70  80  90 100 110 120 130 140 150 160 170 180 190 210], Test: [200] \n",
      " Train: [ 10  20  30  40  50  60  70  80  90 100 110 120 130 140 150 160 170 180 190 200], Test: [210] \n"
     ]
    }
   ],
   "source": [
    "from sklearn.model_selection import LeaveOneOut\n",
    "X = np.array( [10, 20, 30, 40, 50, 60, 70, 80, 90, 100, 110, 120, 130, 140, 150, 160, 170, 180, 190, 200, 210] )\n",
    "\n",
    "cv = LeaveOneOut()\n",
    "\n",
    "for train_index, test_index in cv.split(X):\n",
    "    X_train, X_test = X[train_index], X[test_index]\n",
    "    print(F\" Train: {X_train}, Test: {X_test} \")"
   ]
  },
  {
   "cell_type": "markdown",
   "id": "54ff5610-7411-4c0d-9125-3c06437d25cb",
   "metadata": {},
   "source": [
    "<span style=\"color:cyan; font-size:30px\">\n",
    "    <b>K Fold Cross-Validation</b>\n",
    "</span>\n",
    "\n",
    "<div align=center> <img src='./img/kfoldcv.png' /></div>\n",
    "\n",
    "* K-Fold cross-validation is method where the whole dataset is divided in k groups or folds, each group has equal size.\n",
    "   * e.g if we have a dataset of 20 observations and we put a k vaue of 5 we can divide 20/5 and each group will have 4 observation, so we will have 5 groups or folds of 4 observations.\n",
    "\n",
    "**The procedure:**\n",
    "1. Shuffle the dataset randomly.\n",
    "2. Split the dataset in **k** groups\n",
    "3. For each unique group\n",
    "    1. Take the a group as hold aout or test sata set\n",
    "    2. Take the remaining groups as training data set\n",
    "    3. Fit a model on the training set and evaluate on the test set\n",
    "    4. Retain the evaluation score and discard the model\n",
    "**Set up K**\n",
    "K is a integer number and indicates the number of groups or folds for dataset, in this case k is equal to the number of iteration of the cross-validation method, for settig up this value you can do next:\n",
    "* **Representative:** the value for k is chosen such that each train/test group of data samples is large enough to be statistically  representative of the broader dataset.\n",
    "   * e.g. if we have a dataset with 4000 register we can choose a k value equal to 8 then each group will have 500 observations\n",
    "\n",
    "* **k=5 | k=10** This method is very common in machine learning and split the data in:"
   ]
  },
  {
   "cell_type": "markdown",
   "id": "2737f7d4-b8cd-47f9-9813-b55eeb52c158",
   "metadata": {},
   "source": [
    "<span style=\"color:cyan; font-size:20px\">\n",
    "    <b>Code Implementation</b>\n",
    "</span>"
   ]
  },
  {
   "cell_type": "code",
   "execution_count": 22,
   "id": "8bb7fd85-ef92-416e-94e5-76bb00072782",
   "metadata": {},
   "outputs": [
    {
     "name": "stdout",
     "output_type": "stream",
     "text": [
      "Fold 1:\n",
      " Train: [ 10  20  30  40  50  60  70  90 110 120 130 140 150 180 190 200], Test: [ 80 100 160 170 210] \n",
      "Fold 2:\n",
      " Train: [ 10  20  30  50  60  70  80 100 110 120 140 150 160 170 190 200 210], Test: [ 40  90 130 180] \n",
      "Fold 3:\n",
      " Train: [ 20  30  40  60  80  90 100 110 120 130 140 150 160 170 180 190 210], Test: [ 10  50  70 200] \n",
      "Fold 4:\n",
      " Train: [ 10  40  50  60  70  80  90 100 130 140 150 160 170 180 190 200 210], Test: [ 20  30 110 120] \n",
      "Fold 5:\n",
      " Train: [ 10  20  30  40  50  70  80  90 100 110 120 130 160 170 180 200 210], Test: [ 60 140 150 190] \n"
     ]
    }
   ],
   "source": [
    "from sklearn.model_selection import KFold\n",
    "\n",
    "kfold = KFold(n_splits=5, shuffle=True)\n",
    "# taking the 20 first observations of dataset\n",
    "X = np.array( [10, 20, 30, 40, 50, 60, 70, 80, 90, 100, 110, 120, 130, 140, 150, 160, 170, 180, 190, 200, 210] )\n",
    "\n",
    "for i, (train_index, test_index) in enumerate(kfold.split(X)):\n",
    "    print(f'Fold {i+1}:')\n",
    "    print(\" Train: %s, Test: %s \" % (X[train_index], X[test_index]))\n",
    "    "
   ]
  },
  {
   "cell_type": "markdown",
   "id": "31992ba3-4b58-4808-84ac-0f58fb6adc25",
   "metadata": {},
   "source": [
    "<span style=\"color:cyan; font-size:30px\">\n",
    "    <b>Stratified K Fold Cross-Validation</b>\n",
    "</span>\n",
    "\n",
    "<div align=center> <img src='./img/skfold.png' /></div>\n",
    "\n",
    "* It is an extension of K Fold CV but specifically for classification problems.\n",
    "* Folds are made by preserving the percentage of samples for each class"
   ]
  },
  {
   "cell_type": "markdown",
   "id": "154b4f21-e91f-42fa-895a-e488e255629c",
   "metadata": {},
   "source": [
    "<span style=\"color:cyan; font-size:20px\">\n",
    "    <b>Code Implementation</b>\n",
    "</span>"
   ]
  },
  {
   "cell_type": "code",
   "execution_count": 28,
   "id": "412559d5-04f7-4ade-9803-191c78adc08c",
   "metadata": {},
   "outputs": [
    {
     "name": "stdout",
     "output_type": "stream",
     "text": [
      "Fold 1\n",
      " X_train: [[ 1  2]\n",
      " [ 5  6]\n",
      " [11 12]\n",
      " [13 14]\n",
      " [15 16]], y_train: [1 1 0 1 0]\n",
      "Fold 2\n",
      " X_train: [[ 3  4]\n",
      " [ 5  6]\n",
      " [ 7  8]\n",
      " [ 9 10]\n",
      " [11 12]], y_train: [1 1 0 1 0]\n",
      "Fold 3\n",
      " X_train: [[ 1  2]\n",
      " [ 3  4]\n",
      " [ 7  8]\n",
      " [ 9 10]\n",
      " [13 14]\n",
      " [15 16]], y_train: [1 1 0 1 1 0]\n"
     ]
    }
   ],
   "source": [
    "from sklearn.model_selection import StratifiedKFold\n",
    "X = np.array( [ [1, 2], [3, 4], [5, 6], [7, 8], [9, 10], [11, 12], [13, 14], [15, 16] ] )\n",
    "y = np.array( [1, 1, 1, 0, 1, 0, 1, 0] )\n",
    "\n",
    "skf = StratifiedKFold(n_splits=3, shuffle=True, random_state=1)\n",
    "\n",
    "for i, (train, test) in enumerate( skf.split(X, y) ):\n",
    "    X_train, X_test, y_train, y_test = X[train], X[test], y[train], y[test]\n",
    "    print(F\"Fold {i+1}\")\n",
    "    print(f\" X_train: {X_train}, y_train: {y_train}\")"
   ]
  },
  {
   "cell_type": "markdown",
   "id": "1277d75f-df0d-46b6-99e9-63de661135a0",
   "metadata": {},
   "source": [
    "<span style=\"color:cyan; font-size:30px\">\n",
    "    <b>Group K Fold Cross-Validation</b>\n",
    "</span>\n",
    "\n",
    "<div align=center> <img src='./img/gkfold.png' /></div>\n",
    "\n",
    "* Group K Fold ensures that the same group is not represented in both test and train sets.\n",
    "   * e.g When we have medical information collected from multiple patients and multiple samples are taken for each patient, this cross-validation method can take for example 2 patients for test set and everything else for train set, but the same patients will not be in test and train sets"
   ]
  },
  {
   "cell_type": "code",
   "execution_count": 34,
   "id": "cb43d1fa-6fa3-4e6d-9a20-33aa49f0e0ff",
   "metadata": {},
   "outputs": [
    {
     "name": "stdout",
     "output_type": "stream",
     "text": [
      " Train:[[ 30  40]\n",
      " [ 90 100]\n",
      " [110 120]], Test: [[10 20]\n",
      " [50 60]\n",
      " [70 80]] \n",
      " Train:[[ 10  20]\n",
      " [ 50  60]\n",
      " [ 70  80]\n",
      " [110 120]], Test: [[ 30  40]\n",
      " [ 90 100]] \n",
      " Train:[[ 10  20]\n",
      " [ 30  40]\n",
      " [ 50  60]\n",
      " [ 70  80]\n",
      " [ 90 100]], Test: [[110 120]] \n"
     ]
    }
   ],
   "source": [
    "from sklearn.model_selection import GroupKFold\n",
    "\n",
    "X = np.array( [[10, 20], [30, 40], [50, 60], [70, 80], [90,100], [110, 120]] )\n",
    "y = np.array([1, 2, 3, 4, 5, 6])\n",
    "groups = [1, 2, 1, 1, 2, 3]\n",
    "group_kfold = GroupKFold(n_splits=3)\n",
    "\n",
    "for i, (train_index, test_index) in enumerate( group_kfold.split(X,y, groups ) ):\n",
    "    X_train, X_test = X[train_index], X[test_index]\n",
    "    print(f\" Train:{X_train}, Test: {X_test} \")"
   ]
  },
  {
   "cell_type": "markdown",
   "id": "8a6d2d42-be14-4e5f-bdbf-fdeb3bf58f72",
   "metadata": {},
   "source": [
    "<span style=\"color:cyan; font-size:30px\">\n",
    "    <b>Stratified Group K Fold Cross-Validation</b>\n",
    "</span>\n",
    "\n",
    "<div align=center> <img src='./img/sgkfold.png' /></div>\n",
    "\n",
    "* Variation of StratifiedKFold attempts to return stratified folds with non-overlapping groups.\n",
    "* The folds are made by preserving the percentage of samples for each class\n",
    "* This method is useful when we have classification problems besides in our data we have groups."
   ]
  },
  {
   "cell_type": "code",
   "execution_count": 11,
   "id": "740308c7-435c-49c7-82c2-df45fee0e839",
   "metadata": {},
   "outputs": [
    {
     "name": "stdout",
     "output_type": "stream",
     "text": [
      "----------------Fold: 1----------------------- \n",
      " Train: [ 10  20  30  40  50  60  70  80 130 140 150 160 170], Train Groups: [1 1 2 2 3 3 3 4 6 6 7 8 8] \n",
      " Test: [ 90 100 110 120], Test Groups: [5 5 5 5] \n",
      "----------------Fold: 2----------------------- \n",
      " Train: [ 10  20  30  40  80  90 100 110 120 130 140 160 170], Train Groups: [1 1 2 2 4 5 5 5 5 6 6 8 8] \n",
      " Test: [ 50  60  70 150], Test Groups: [3 3 3 7] \n",
      "----------------Fold: 3----------------------- \n",
      " Train: [ 30  40  50  60  70  90 100 110 120 130 140 150 160 170], Train Groups: [2 2 3 3 3 5 5 5 5 6 6 7 8 8] \n",
      " Test: [10 20 80], Test Groups: [1 1 4] \n",
      "----------------Fold: 4----------------------- \n",
      " Train: [ 10  20  50  60  70  80  90 100 110 120 130 140 150], Train Groups: [1 1 3 3 3 4 5 5 5 5 6 6 7] \n",
      " Test: [ 30  40 160 170], Test Groups: [2 2 8 8] \n",
      "----------------Fold: 5----------------------- \n",
      " Train: [ 10  20  30  40  50  60  70  80  90 100 110 120 150 160 170], Train Groups: [1 1 2 2 3 3 3 4 5 5 5 5 7 8 8] \n",
      " Test: [130 140], Test Groups: [6 6] \n"
     ]
    }
   ],
   "source": [
    "from sklearn.model_selection import StratifiedGroupKFold\n",
    "\n",
    "X = np.array( [10, 20, 30, 40, 50, 60, 70, 80, 90, 100, 110, 120, 130, 140, 150, 160, 170] )\n",
    "y = np.array([0, 0, 1, 1, 1, 1, 1, 1, 0, 0, 0, 0, 0, 0, 0, 0, 0])\n",
    "groups = np.array([1, 1, 2, 2, 3, 3, 3, 4, 5, 5, 5, 5, 6, 6, 7, 8, 8])\n",
    "sgkf = StratifiedGroupKFold(n_splits=5)\n",
    "\n",
    "for i, (train_index, test_index) in enumerate(sgkf.split(X, y, groups)):\n",
    "    X_train, X_test = X[train_index], X[test_index]\n",
    "    print(f\"----------------Fold: {i+1}----------------------- \")\n",
    "    print(f\" Train: {X_train}, Train Groups: {groups[train_index]} \")\n",
    "    print(f\" Test: {X_test}, Test Groups: {groups[test_index]} \")"
   ]
  },
  {
   "cell_type": "code",
   "execution_count": null,
   "id": "68584811-634d-443c-9f00-98f287b135d5",
   "metadata": {},
   "outputs": [],
   "source": []
  },
  {
   "cell_type": "code",
   "execution_count": null,
   "id": "b088616d-e971-48c4-b468-2d387f83a7a4",
   "metadata": {},
   "outputs": [],
   "source": []
  }
 ],
 "metadata": {
  "kernelspec": {
   "display_name": "aivenv",
   "language": "python",
   "name": "aivenv"
  },
  "language_info": {
   "codemirror_mode": {
    "name": "ipython",
    "version": 3
   },
   "file_extension": ".py",
   "mimetype": "text/x-python",
   "name": "python",
   "nbconvert_exporter": "python",
   "pygments_lexer": "ipython3",
   "version": "3.8.10"
  }
 },
 "nbformat": 4,
 "nbformat_minor": 5
}
