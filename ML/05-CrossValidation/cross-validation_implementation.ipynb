{
 "cells": [
  {
   "cell_type": "markdown",
   "id": "8c29388d-5777-49b3-9b9e-08ecf428a48e",
   "metadata": {},
   "source": [
    "<span style=\"color:green; font-size:38px\">\n",
    "    <div align=center><b>Cross-Validation Implementation</b></div>\n",
    "</span>"
   ]
  },
  {
   "cell_type": "markdown",
   "id": "0c647c93-8088-4d02-a690-09b9f90c6291",
   "metadata": {},
   "source": [
    "In this notebook I am going to implement cross-validation in a regression model, the steps are the same for both cases regression and classification."
   ]
  },
  {
   "cell_type": "markdown",
   "id": "fe524554-9e68-462e-9c7b-0ff84c66dc21",
   "metadata": {},
   "source": [
    "<span style=\"color:green; font-size:28px\">\n",
    "    <b>Melbourne House Price Prediction</b>\n",
    "</span>\n",
    "\n",
    "**Columns**\n",
    "* Rooms: Number of rooms\n",
    "* Price: Price in dollars\n",
    "* Method: S - property sold; SP - property sold prior; PI - property passed in; PN - sold prior not disclosed; SN - sold not disclosed; NB - no bid; VB - vendor bid; W - withdrawn prior to auction; SA - sold after auction; SS - sold after auction price not disclosed. N/A - price or highest bid not available.\n",
    "* Type: br - bedroom(s); h - house,cottage,villa, semi,terrace; u - unit, duplex; t - townhouse; dev site - development site; o res - other residential.\n",
    "* SellerG: Real Estate Agent\n",
    "* Date: Date sold\n",
    "* Distance: Distance from CBD\n",
    "* Regionname: General Region (West, North West, North, North east …etc)\n",
    "* Propertycount: Number of properties that exist in the suburb.\n",
    "* Bedroom2 : Scraped # of Bedrooms (from different source)\n",
    "* Bathroom: Number of Bathrooms\n",
    "* Car: Number of carspots\n",
    "* Landsize: Land Size\n",
    "* BuildingArea: Building Size\n",
    "* CouncilArea: Governing council for the area"
   ]
  },
  {
   "cell_type": "code",
   "execution_count": 1,
   "id": "daf76673-c4ac-4334-874f-687aaa528e82",
   "metadata": {},
   "outputs": [],
   "source": [
    "import numpy as np\n",
    "import pandas as pd\n",
    "import matplotlib.pyplot as plt\n",
    "import seaborn as sns\n",
    "\n",
    "%matplotlib inline "
   ]
  },
  {
   "cell_type": "markdown",
   "id": "dab24c95-12f1-4b1c-9a8f-988b2886bafb",
   "metadata": {},
   "source": [
    "<span style=\"color:cyan; font-size:28px\">\n",
    "    <b>Get Data</b>\n",
    "</span>"
   ]
  },
  {
   "cell_type": "code",
   "execution_count": 70,
   "id": "d56261bd-c847-4eac-b1b2-54880ae1a4ce",
   "metadata": {},
   "outputs": [
    {
     "data": {
      "text/html": [
       "<div>\n",
       "<style scoped>\n",
       "    .dataframe tbody tr th:only-of-type {\n",
       "        vertical-align: middle;\n",
       "    }\n",
       "\n",
       "    .dataframe tbody tr th {\n",
       "        vertical-align: top;\n",
       "    }\n",
       "\n",
       "    .dataframe thead th {\n",
       "        text-align: right;\n",
       "    }\n",
       "</style>\n",
       "<table border=\"1\" class=\"dataframe\">\n",
       "  <thead>\n",
       "    <tr style=\"text-align: right;\">\n",
       "      <th></th>\n",
       "      <th>Suburb</th>\n",
       "      <th>Address</th>\n",
       "      <th>Rooms</th>\n",
       "      <th>Type</th>\n",
       "      <th>Price</th>\n",
       "      <th>Method</th>\n",
       "      <th>SellerG</th>\n",
       "      <th>Date</th>\n",
       "      <th>Distance</th>\n",
       "      <th>Postcode</th>\n",
       "      <th>...</th>\n",
       "      <th>Bathroom</th>\n",
       "      <th>Car</th>\n",
       "      <th>Landsize</th>\n",
       "      <th>BuildingArea</th>\n",
       "      <th>YearBuilt</th>\n",
       "      <th>CouncilArea</th>\n",
       "      <th>Lattitude</th>\n",
       "      <th>Longtitude</th>\n",
       "      <th>Regionname</th>\n",
       "      <th>Propertycount</th>\n",
       "    </tr>\n",
       "  </thead>\n",
       "  <tbody>\n",
       "    <tr>\n",
       "      <th>0</th>\n",
       "      <td>Abbotsford</td>\n",
       "      <td>85 Turner St</td>\n",
       "      <td>2</td>\n",
       "      <td>h</td>\n",
       "      <td>1480000.0</td>\n",
       "      <td>S</td>\n",
       "      <td>Biggin</td>\n",
       "      <td>3/12/2016</td>\n",
       "      <td>2.5</td>\n",
       "      <td>3067.0</td>\n",
       "      <td>...</td>\n",
       "      <td>1.0</td>\n",
       "      <td>1.0</td>\n",
       "      <td>202.0</td>\n",
       "      <td>NaN</td>\n",
       "      <td>NaN</td>\n",
       "      <td>Yarra</td>\n",
       "      <td>-37.7996</td>\n",
       "      <td>144.9984</td>\n",
       "      <td>Northern Metropolitan</td>\n",
       "      <td>4019.0</td>\n",
       "    </tr>\n",
       "    <tr>\n",
       "      <th>1</th>\n",
       "      <td>Abbotsford</td>\n",
       "      <td>25 Bloomburg St</td>\n",
       "      <td>2</td>\n",
       "      <td>h</td>\n",
       "      <td>1035000.0</td>\n",
       "      <td>S</td>\n",
       "      <td>Biggin</td>\n",
       "      <td>4/02/2016</td>\n",
       "      <td>2.5</td>\n",
       "      <td>3067.0</td>\n",
       "      <td>...</td>\n",
       "      <td>1.0</td>\n",
       "      <td>0.0</td>\n",
       "      <td>156.0</td>\n",
       "      <td>79.0</td>\n",
       "      <td>1900.0</td>\n",
       "      <td>Yarra</td>\n",
       "      <td>-37.8079</td>\n",
       "      <td>144.9934</td>\n",
       "      <td>Northern Metropolitan</td>\n",
       "      <td>4019.0</td>\n",
       "    </tr>\n",
       "    <tr>\n",
       "      <th>2</th>\n",
       "      <td>Abbotsford</td>\n",
       "      <td>5 Charles St</td>\n",
       "      <td>3</td>\n",
       "      <td>h</td>\n",
       "      <td>1465000.0</td>\n",
       "      <td>SP</td>\n",
       "      <td>Biggin</td>\n",
       "      <td>4/03/2017</td>\n",
       "      <td>2.5</td>\n",
       "      <td>3067.0</td>\n",
       "      <td>...</td>\n",
       "      <td>2.0</td>\n",
       "      <td>0.0</td>\n",
       "      <td>134.0</td>\n",
       "      <td>150.0</td>\n",
       "      <td>1900.0</td>\n",
       "      <td>Yarra</td>\n",
       "      <td>-37.8093</td>\n",
       "      <td>144.9944</td>\n",
       "      <td>Northern Metropolitan</td>\n",
       "      <td>4019.0</td>\n",
       "    </tr>\n",
       "    <tr>\n",
       "      <th>3</th>\n",
       "      <td>Abbotsford</td>\n",
       "      <td>40 Federation La</td>\n",
       "      <td>3</td>\n",
       "      <td>h</td>\n",
       "      <td>850000.0</td>\n",
       "      <td>PI</td>\n",
       "      <td>Biggin</td>\n",
       "      <td>4/03/2017</td>\n",
       "      <td>2.5</td>\n",
       "      <td>3067.0</td>\n",
       "      <td>...</td>\n",
       "      <td>2.0</td>\n",
       "      <td>1.0</td>\n",
       "      <td>94.0</td>\n",
       "      <td>NaN</td>\n",
       "      <td>NaN</td>\n",
       "      <td>Yarra</td>\n",
       "      <td>-37.7969</td>\n",
       "      <td>144.9969</td>\n",
       "      <td>Northern Metropolitan</td>\n",
       "      <td>4019.0</td>\n",
       "    </tr>\n",
       "    <tr>\n",
       "      <th>4</th>\n",
       "      <td>Abbotsford</td>\n",
       "      <td>55a Park St</td>\n",
       "      <td>4</td>\n",
       "      <td>h</td>\n",
       "      <td>1600000.0</td>\n",
       "      <td>VB</td>\n",
       "      <td>Nelson</td>\n",
       "      <td>4/06/2016</td>\n",
       "      <td>2.5</td>\n",
       "      <td>3067.0</td>\n",
       "      <td>...</td>\n",
       "      <td>1.0</td>\n",
       "      <td>2.0</td>\n",
       "      <td>120.0</td>\n",
       "      <td>142.0</td>\n",
       "      <td>2014.0</td>\n",
       "      <td>Yarra</td>\n",
       "      <td>-37.8072</td>\n",
       "      <td>144.9941</td>\n",
       "      <td>Northern Metropolitan</td>\n",
       "      <td>4019.0</td>\n",
       "    </tr>\n",
       "  </tbody>\n",
       "</table>\n",
       "<p>5 rows × 21 columns</p>\n",
       "</div>"
      ],
      "text/plain": [
       "       Suburb           Address  Rooms Type      Price Method SellerG  \\\n",
       "0  Abbotsford      85 Turner St      2    h  1480000.0      S  Biggin   \n",
       "1  Abbotsford   25 Bloomburg St      2    h  1035000.0      S  Biggin   \n",
       "2  Abbotsford      5 Charles St      3    h  1465000.0     SP  Biggin   \n",
       "3  Abbotsford  40 Federation La      3    h   850000.0     PI  Biggin   \n",
       "4  Abbotsford       55a Park St      4    h  1600000.0     VB  Nelson   \n",
       "\n",
       "        Date  Distance  Postcode  ...  Bathroom  Car  Landsize  BuildingArea  \\\n",
       "0  3/12/2016       2.5    3067.0  ...       1.0  1.0     202.0           NaN   \n",
       "1  4/02/2016       2.5    3067.0  ...       1.0  0.0     156.0          79.0   \n",
       "2  4/03/2017       2.5    3067.0  ...       2.0  0.0     134.0         150.0   \n",
       "3  4/03/2017       2.5    3067.0  ...       2.0  1.0      94.0           NaN   \n",
       "4  4/06/2016       2.5    3067.0  ...       1.0  2.0     120.0         142.0   \n",
       "\n",
       "   YearBuilt  CouncilArea Lattitude  Longtitude             Regionname  \\\n",
       "0        NaN        Yarra  -37.7996    144.9984  Northern Metropolitan   \n",
       "1     1900.0        Yarra  -37.8079    144.9934  Northern Metropolitan   \n",
       "2     1900.0        Yarra  -37.8093    144.9944  Northern Metropolitan   \n",
       "3        NaN        Yarra  -37.7969    144.9969  Northern Metropolitan   \n",
       "4     2014.0        Yarra  -37.8072    144.9941  Northern Metropolitan   \n",
       "\n",
       "  Propertycount  \n",
       "0        4019.0  \n",
       "1        4019.0  \n",
       "2        4019.0  \n",
       "3        4019.0  \n",
       "4        4019.0  \n",
       "\n",
       "[5 rows x 21 columns]"
      ]
     },
     "execution_count": 70,
     "metadata": {},
     "output_type": "execute_result"
    }
   ],
   "source": [
    "data = pd.read_csv( '../datasets/melb_data.csv' )\n",
    "data.head()"
   ]
  },
  {
   "cell_type": "markdown",
   "id": "27b3d1a2-1596-49b5-9e8c-9e71d808a6f5",
   "metadata": {},
   "source": [
    "<span style=\"color:green; font-size:28px\">\n",
    "    <b>Data Processing</b>\n",
    "</span>"
   ]
  },
  {
   "cell_type": "code",
   "execution_count": 71,
   "id": "739bd2e6-3b56-4a57-8848-0e7453efddbc",
   "metadata": {},
   "outputs": [
    {
     "name": "stdout",
     "output_type": "stream",
     "text": [
      "<class 'pandas.core.frame.DataFrame'>\n",
      "RangeIndex: 13580 entries, 0 to 13579\n",
      "Data columns (total 21 columns):\n",
      " #   Column         Non-Null Count  Dtype  \n",
      "---  ------         --------------  -----  \n",
      " 0   Suburb         13580 non-null  object \n",
      " 1   Address        13580 non-null  object \n",
      " 2   Rooms          13580 non-null  int64  \n",
      " 3   Type           13580 non-null  object \n",
      " 4   Price          13580 non-null  float64\n",
      " 5   Method         13580 non-null  object \n",
      " 6   SellerG        13580 non-null  object \n",
      " 7   Date           13580 non-null  object \n",
      " 8   Distance       13580 non-null  float64\n",
      " 9   Postcode       13580 non-null  float64\n",
      " 10  Bedroom2       13580 non-null  float64\n",
      " 11  Bathroom       13580 non-null  float64\n",
      " 12  Car            13518 non-null  float64\n",
      " 13  Landsize       13580 non-null  float64\n",
      " 14  BuildingArea   7130 non-null   float64\n",
      " 15  YearBuilt      8205 non-null   float64\n",
      " 16  CouncilArea    12211 non-null  object \n",
      " 17  Lattitude      13580 non-null  float64\n",
      " 18  Longtitude     13580 non-null  float64\n",
      " 19  Regionname     13580 non-null  object \n",
      " 20  Propertycount  13580 non-null  float64\n",
      "dtypes: float64(12), int64(1), object(8)\n",
      "memory usage: 2.2+ MB\n",
      "None\n",
      "No of categorical columns: 8\n",
      "No of numerical columns: 13\n",
      "Categorical columns: Index(['Suburb', 'Address', 'Type', 'Method', 'SellerG', 'Date', 'CouncilArea',\n",
      "       'Regionname'],\n",
      "      dtype='object')\n",
      "Numerical columns: Index(['Rooms', 'Price', 'Distance', 'Postcode', 'Bedroom2', 'Bathroom', 'Car',\n",
      "       'Landsize', 'BuildingArea', 'YearBuilt', 'Lattitude', 'Longtitude',\n",
      "       'Propertycount'],\n",
      "      dtype='object')\n"
     ]
    }
   ],
   "source": [
    "# info of data\n",
    "print( data.info() )\n",
    "print(f\"No of categorical columns: {len( data.select_dtypes('object').columns )}\")\n",
    "print(f\"No of numerical columns: {len( data.select_dtypes(['int64', 'float64']).columns )}\")\n",
    "print(f\"Categorical columns: {data.select_dtypes('object').columns}\")\n",
    "print(f\"Numerical columns: {data.select_dtypes(['int64', 'float64']).columns}\")"
   ]
  },
  {
   "cell_type": "markdown",
   "id": "b769b9c8-9be4-4ccc-8b80-656cf58a9a8c",
   "metadata": {},
   "source": [
    "Ok, we have 8 categorical features and 13 numerical features"
   ]
  },
  {
   "cell_type": "markdown",
   "id": "96c22a6f-71d1-4529-b40f-322a4b613f81",
   "metadata": {},
   "source": [
    "<span style=\"color:green; font-size:18px\">\n",
    "    <b>Verify if exists missing values</b>\n",
    "</span>"
   ]
  },
  {
   "cell_type": "code",
   "execution_count": 72,
   "id": "cb1cdaa5-d586-4968-9794-14dd7b789193",
   "metadata": {},
   "outputs": [
    {
     "data": {
      "text/html": [
       "<div>\n",
       "<style scoped>\n",
       "    .dataframe tbody tr th:only-of-type {\n",
       "        vertical-align: middle;\n",
       "    }\n",
       "\n",
       "    .dataframe tbody tr th {\n",
       "        vertical-align: top;\n",
       "    }\n",
       "\n",
       "    .dataframe thead th {\n",
       "        text-align: right;\n",
       "    }\n",
       "</style>\n",
       "<table border=\"1\" class=\"dataframe\">\n",
       "  <thead>\n",
       "    <tr style=\"text-align: right;\">\n",
       "      <th></th>\n",
       "      <th>Column</th>\n",
       "      <th>Missing Values</th>\n",
       "      <th>%</th>\n",
       "      <th>Dtype</th>\n",
       "    </tr>\n",
       "  </thead>\n",
       "  <tbody>\n",
       "    <tr>\n",
       "      <th>0</th>\n",
       "      <td>Suburb</td>\n",
       "      <td>0</td>\n",
       "      <td>0.00</td>\n",
       "      <td>object</td>\n",
       "    </tr>\n",
       "    <tr>\n",
       "      <th>1</th>\n",
       "      <td>Address</td>\n",
       "      <td>0</td>\n",
       "      <td>0.00</td>\n",
       "      <td>object</td>\n",
       "    </tr>\n",
       "    <tr>\n",
       "      <th>2</th>\n",
       "      <td>Rooms</td>\n",
       "      <td>0</td>\n",
       "      <td>0.00</td>\n",
       "      <td>int64</td>\n",
       "    </tr>\n",
       "    <tr>\n",
       "      <th>3</th>\n",
       "      <td>Type</td>\n",
       "      <td>0</td>\n",
       "      <td>0.00</td>\n",
       "      <td>object</td>\n",
       "    </tr>\n",
       "    <tr>\n",
       "      <th>4</th>\n",
       "      <td>Price</td>\n",
       "      <td>0</td>\n",
       "      <td>0.00</td>\n",
       "      <td>float64</td>\n",
       "    </tr>\n",
       "    <tr>\n",
       "      <th>5</th>\n",
       "      <td>Method</td>\n",
       "      <td>0</td>\n",
       "      <td>0.00</td>\n",
       "      <td>object</td>\n",
       "    </tr>\n",
       "    <tr>\n",
       "      <th>6</th>\n",
       "      <td>SellerG</td>\n",
       "      <td>0</td>\n",
       "      <td>0.00</td>\n",
       "      <td>object</td>\n",
       "    </tr>\n",
       "    <tr>\n",
       "      <th>7</th>\n",
       "      <td>Date</td>\n",
       "      <td>0</td>\n",
       "      <td>0.00</td>\n",
       "      <td>object</td>\n",
       "    </tr>\n",
       "    <tr>\n",
       "      <th>8</th>\n",
       "      <td>Distance</td>\n",
       "      <td>0</td>\n",
       "      <td>0.00</td>\n",
       "      <td>float64</td>\n",
       "    </tr>\n",
       "    <tr>\n",
       "      <th>9</th>\n",
       "      <td>Postcode</td>\n",
       "      <td>0</td>\n",
       "      <td>0.00</td>\n",
       "      <td>float64</td>\n",
       "    </tr>\n",
       "    <tr>\n",
       "      <th>10</th>\n",
       "      <td>Bedroom2</td>\n",
       "      <td>0</td>\n",
       "      <td>0.00</td>\n",
       "      <td>float64</td>\n",
       "    </tr>\n",
       "    <tr>\n",
       "      <th>11</th>\n",
       "      <td>Bathroom</td>\n",
       "      <td>0</td>\n",
       "      <td>0.00</td>\n",
       "      <td>float64</td>\n",
       "    </tr>\n",
       "    <tr>\n",
       "      <th>12</th>\n",
       "      <td>Car</td>\n",
       "      <td>62</td>\n",
       "      <td>0.46</td>\n",
       "      <td>float64</td>\n",
       "    </tr>\n",
       "    <tr>\n",
       "      <th>13</th>\n",
       "      <td>Landsize</td>\n",
       "      <td>0</td>\n",
       "      <td>0.00</td>\n",
       "      <td>float64</td>\n",
       "    </tr>\n",
       "    <tr>\n",
       "      <th>14</th>\n",
       "      <td>BuildingArea</td>\n",
       "      <td>6450</td>\n",
       "      <td>47.50</td>\n",
       "      <td>float64</td>\n",
       "    </tr>\n",
       "    <tr>\n",
       "      <th>15</th>\n",
       "      <td>YearBuilt</td>\n",
       "      <td>5375</td>\n",
       "      <td>39.58</td>\n",
       "      <td>float64</td>\n",
       "    </tr>\n",
       "    <tr>\n",
       "      <th>16</th>\n",
       "      <td>CouncilArea</td>\n",
       "      <td>1369</td>\n",
       "      <td>10.08</td>\n",
       "      <td>object</td>\n",
       "    </tr>\n",
       "    <tr>\n",
       "      <th>17</th>\n",
       "      <td>Lattitude</td>\n",
       "      <td>0</td>\n",
       "      <td>0.00</td>\n",
       "      <td>float64</td>\n",
       "    </tr>\n",
       "    <tr>\n",
       "      <th>18</th>\n",
       "      <td>Longtitude</td>\n",
       "      <td>0</td>\n",
       "      <td>0.00</td>\n",
       "      <td>float64</td>\n",
       "    </tr>\n",
       "    <tr>\n",
       "      <th>19</th>\n",
       "      <td>Regionname</td>\n",
       "      <td>0</td>\n",
       "      <td>0.00</td>\n",
       "      <td>object</td>\n",
       "    </tr>\n",
       "    <tr>\n",
       "      <th>20</th>\n",
       "      <td>Propertycount</td>\n",
       "      <td>0</td>\n",
       "      <td>0.00</td>\n",
       "      <td>float64</td>\n",
       "    </tr>\n",
       "  </tbody>\n",
       "</table>\n",
       "</div>"
      ],
      "text/plain": [
       "           Column  Missing Values      %    Dtype\n",
       "0          Suburb               0   0.00   object\n",
       "1         Address               0   0.00   object\n",
       "2           Rooms               0   0.00    int64\n",
       "3            Type               0   0.00   object\n",
       "4           Price               0   0.00  float64\n",
       "5          Method               0   0.00   object\n",
       "6         SellerG               0   0.00   object\n",
       "7            Date               0   0.00   object\n",
       "8        Distance               0   0.00  float64\n",
       "9        Postcode               0   0.00  float64\n",
       "10       Bedroom2               0   0.00  float64\n",
       "11       Bathroom               0   0.00  float64\n",
       "12            Car              62   0.46  float64\n",
       "13       Landsize               0   0.00  float64\n",
       "14   BuildingArea            6450  47.50  float64\n",
       "15      YearBuilt            5375  39.58  float64\n",
       "16    CouncilArea            1369  10.08   object\n",
       "17      Lattitude               0   0.00  float64\n",
       "18     Longtitude               0   0.00  float64\n",
       "19     Regionname               0   0.00   object\n",
       "20  Propertycount               0   0.00  float64"
      ]
     },
     "execution_count": 72,
     "metadata": {},
     "output_type": "execute_result"
    }
   ],
   "source": [
    "missin_values_df = pd.DataFrame( {'Column': list(data.isna().sum().index),\n",
    "                                 'Missing Values': list(data.isna().sum().values),\n",
    "                                  '%': list(np.round((data.isna().sum().values)/data.shape[0] * 100, 2)),\n",
    "                                 'Dtype':list(data.dtypes.values) } )\n",
    "missin_values_df"
   ]
  },
  {
   "cell_type": "markdown",
   "id": "1598c7e2-76cb-4222-837f-1f465331e1d4",
   "metadata": {},
   "source": [
    "Here we can see that we have 3 numerical features with missing values and 1 categorical feature with missing values, the buildingArea column represents almost 50% of whole data, so if we drop this column we can delete important data, the solution im my opinion is replace missing values by their median since the data is skewed in the numerical features case and in categorical data with its mode "
   ]
  },
  {
   "cell_type": "code",
   "execution_count": 73,
   "id": "17721b13-a332-42f3-9966-5d2da55f5fd6",
   "metadata": {},
   "outputs": [],
   "source": [
    "data['Car'] = data['Car'].fillna( data['Car'].median() )\n",
    "data['BuildingArea'] = data['BuildingArea'].fillna( data['BuildingArea'].median() )\n",
    "data['YearBuilt'] = data['YearBuilt'].fillna( data['YearBuilt'].median() )\n",
    "\n",
    "data['CouncilArea'] = data['CouncilArea'].fillna( data['CouncilArea'].mode()[0] )"
   ]
  },
  {
   "cell_type": "code",
   "execution_count": 74,
   "id": "4a24edce-5c54-42de-a43e-0758a7d58622",
   "metadata": {},
   "outputs": [
    {
     "data": {
      "text/plain": [
       "Suburb           0\n",
       "Address          0\n",
       "Rooms            0\n",
       "Type             0\n",
       "Price            0\n",
       "Method           0\n",
       "SellerG          0\n",
       "Date             0\n",
       "Distance         0\n",
       "Postcode         0\n",
       "Bedroom2         0\n",
       "Bathroom         0\n",
       "Car              0\n",
       "Landsize         0\n",
       "BuildingArea     0\n",
       "YearBuilt        0\n",
       "CouncilArea      0\n",
       "Lattitude        0\n",
       "Longtitude       0\n",
       "Regionname       0\n",
       "Propertycount    0\n",
       "dtype: int64"
      ]
     },
     "execution_count": 74,
     "metadata": {},
     "output_type": "execute_result"
    }
   ],
   "source": [
    "data.isna().sum()"
   ]
  },
  {
   "cell_type": "markdown",
   "id": "9126d53b-f2ac-409c-9ab2-d35b740aba78",
   "metadata": {},
   "source": [
    "<span style=\"color:green; font-size:18px\">\n",
    "    <b>Verify for outliers and replace by their mean</b>\n",
    "</span>"
   ]
  },
  {
   "cell_type": "code",
   "execution_count": 75,
   "id": "fc454207-48d6-4c40-a307-6b963668ef47",
   "metadata": {},
   "outputs": [],
   "source": [
    "def get_outlliers(column):\n",
    "    Q1 = data[column].quantile(0.25)\n",
    "    Q3 = data[column].quantile(0.75)\n",
    "    IQR = Q3 - Q1\n",
    "    lower_extreme = Q1 - 1.5 * IQR\n",
    "    upper_extreme = Q3 + 1.5 * IQR\n",
    "    mean = data[column].mean()\n",
    "    outliers = data[ (data[column] > upper_extreme) | (data[column] < lower_extreme) ][column].values\n",
    "    data[column].replace( outliers, mean, inplace=True )\n",
    "\n",
    "numerical_features = list( data.select_dtypes(['int64', 'float64']).columns )\n",
    "for column in numerical_features:\n",
    "    get_outlliers(column)"
   ]
  },
  {
   "cell_type": "markdown",
   "id": "e5ced72c-2e05-4bfe-9ffe-a326b118a0ed",
   "metadata": {},
   "source": [
    "<span style=\"color:green; font-size:18px\">\n",
    "    <b>Feature Selection</b>\n",
    "</span>"
   ]
  },
  {
   "cell_type": "code",
   "execution_count": 76,
   "id": "9e2d8bea-830f-4784-84ea-a95eb4767558",
   "metadata": {},
   "outputs": [
    {
     "data": {
      "text/plain": [
       "['Suburb',\n",
       " 'Address',\n",
       " 'Type',\n",
       " 'Method',\n",
       " 'SellerG',\n",
       " 'Date',\n",
       " 'CouncilArea',\n",
       " 'Regionname']"
      ]
     },
     "execution_count": 76,
     "metadata": {},
     "output_type": "execute_result"
    }
   ],
   "source": [
    "categorical_features = list(data.select_dtypes('object').columns)\n",
    "categorical_features"
   ]
  },
  {
   "cell_type": "markdown",
   "id": "42bac977-8dca-4d35-b458-e3a9c68e1714",
   "metadata": {},
   "source": [
    "We have 8 categorical features but not all are important im my opinion for this model, Suburb, Type, Method, CouncilArea and Regionname are important for me."
   ]
  },
  {
   "cell_type": "code",
   "execution_count": 77,
   "id": "a9414ff3-ca7e-46ec-a2b1-09e76fe7e226",
   "metadata": {},
   "outputs": [
    {
     "data": {
      "text/plain": [
       "['Rooms',\n",
       " 'Price',\n",
       " 'Distance',\n",
       " 'Postcode',\n",
       " 'Bedroom2',\n",
       " 'Bathroom',\n",
       " 'Car',\n",
       " 'Landsize',\n",
       " 'BuildingArea',\n",
       " 'YearBuilt',\n",
       " 'Lattitude',\n",
       " 'Longtitude',\n",
       " 'Propertycount']"
      ]
     },
     "execution_count": 77,
     "metadata": {},
     "output_type": "execute_result"
    }
   ],
   "source": [
    "numerical_features"
   ]
  },
  {
   "cell_type": "code",
   "execution_count": 78,
   "id": "57b69ac4-dc1f-4325-9b93-dbda47c6ea28",
   "metadata": {},
   "outputs": [
    {
     "data": {
      "text/plain": [
       "Lattitude       -0.246160\n",
       "Distance        -0.099266\n",
       "YearBuilt       -0.088408\n",
       "Propertycount   -0.007489\n",
       "BuildingArea    -0.006969\n",
       "Car              0.213670\n",
       "Longtitude       0.228160\n",
       "Postcode         0.249406\n",
       "Landsize         0.289639\n",
       "Bathroom         0.365221\n",
       "Bedroom2         0.440741\n",
       "Rooms            0.454538\n",
       "Price            1.000000\n",
       "Name: Price, dtype: float64"
      ]
     },
     "execution_count": 78,
     "metadata": {},
     "output_type": "execute_result"
    }
   ],
   "source": [
    "# correlation between features and label\n",
    "numerical_data = data.select_dtypes(['int64', 'float64'])\n",
    "numerical_data.corr()['Price'].sort_values()"
   ]
  },
  {
   "cell_type": "markdown",
   "id": "0a895a27-e285-429d-a0ef-f571a9c39987",
   "metadata": {},
   "source": [
    "For this exaple we use only the features with positive correlation"
   ]
  },
  {
   "cell_type": "code",
   "execution_count": 141,
   "id": "0593b841-b8bf-4fd5-88b5-bb2277ab9d2a",
   "metadata": {},
   "outputs": [],
   "source": [
    "X = data[['Rooms', 'Bedroom2', 'Bathroom', 'Landsize', 'Car']]\n",
    "y = data['Price']"
   ]
  },
  {
   "cell_type": "code",
   "execution_count": null,
   "id": "c9f21a39-ffec-4c73-959c-aabc8a435c17",
   "metadata": {},
   "outputs": [],
   "source": []
  },
  {
   "cell_type": "markdown",
   "id": "2c809ff8-16f5-46d9-ac4b-96df7d088687",
   "metadata": {},
   "source": [
    "<span style=\"color:green; font-size:22px\">\n",
    "    <b>Model Building</b>\n",
    "</span>"
   ]
  },
  {
   "cell_type": "markdown",
   "id": "4d09e621-6109-45a2-a1e7-ba9b7c02b269",
   "metadata": {},
   "source": [
    "<span style=\"color:green; font-size:18px\">\n",
    "    <b>Train | Test Split</b>\n",
    "</span>"
   ]
  },
  {
   "cell_type": "code",
   "execution_count": 142,
   "id": "1d2cfc36-3069-4ef6-9ee7-7e4d632f072f",
   "metadata": {},
   "outputs": [],
   "source": [
    "from sklearn.model_selection import train_test_split\n",
    "\n",
    "X_train, X_test, y_train, y_test = train_test_split(X, y, test_size=0.2, random_state=42)"
   ]
  },
  {
   "cell_type": "markdown",
   "id": "ae97d64e-b285-4a14-861c-c14e4f09b118",
   "metadata": {},
   "source": [
    "<span style=\"color:green; font-size:18px\">\n",
    "    <b>Scaling DAta</b>\n",
    "</span>"
   ]
  },
  {
   "cell_type": "code",
   "execution_count": 143,
   "id": "579bc927-ff36-419a-b346-3f9c6e3919f3",
   "metadata": {},
   "outputs": [],
   "source": [
    "from sklearn.preprocessing import StandardScaler\n",
    "scaler = StandardScaler()\n",
    "X_train = scaler.fit_transform(X_train)\n",
    "X_test = scaler.transform(X_test)"
   ]
  },
  {
   "cell_type": "markdown",
   "id": "4b62ef3b-5b28-4ec3-bc59-fd15e278cf68",
   "metadata": {},
   "source": [
    "<span style=\"color:green; font-size:18px\">\n",
    "    <b>Train Model</b>\n",
    "</span>"
   ]
  },
  {
   "cell_type": "code",
   "execution_count": 144,
   "id": "4faf52b1-5bcf-4e28-9226-b417a3329b95",
   "metadata": {},
   "outputs": [],
   "source": [
    "from sklearn.linear_model import LinearRegression\n",
    "\n",
    "lr = LinearRegression()\n",
    "lr.fit(X_train, y_train)\n",
    "\n",
    "# train preds\n",
    "y_train_hat = lr.predict(X_train)\n",
    "\n",
    "# test_preds \n",
    "y_hat = lr.predict(X_test)"
   ]
  },
  {
   "cell_type": "code",
   "execution_count": 145,
   "id": "f90be885-7c9f-4d25-ad42-45a7bfe0f65c",
   "metadata": {},
   "outputs": [
    {
     "name": "stdout",
     "output_type": "stream",
     "text": [
      "Train error = 387321.6336427131\n",
      "Test error = 385411.40775858366\n",
      "0.2416632148455451\n"
     ]
    }
   ],
   "source": [
    "from sklearn.metrics import mean_squared_error\n",
    "print(f\"Train error = {np.sqrt(mean_squared_error(y_train, y_train_hat))}\")\n",
    "print(f\"Test error = {np.sqrt(mean_squared_error(y_test, y_hat))}\")\n",
    "print( lr.score(X_test, y_test) )"
   ]
  },
  {
   "cell_type": "markdown",
   "id": "5a3ab9c5-0f73-4f57-9b1a-881e82a2e516",
   "metadata": {},
   "source": [
    "<span style=\"color:green; font-size:18px\">\n",
    "    <b>Model Validation</b>\n",
    "</span>"
   ]
  },
  {
   "cell_type": "markdown",
   "id": "7fd27250-e50e-4f41-93f8-5bc3fb2de5db",
   "metadata": {},
   "source": [
    "<span style=\"color:green; font-size:18px\">\n",
    "    <b>Cross-Validation with for loop</b>\n",
    "</span>"
   ]
  },
  {
   "cell_type": "code",
   "execution_count": 123,
   "id": "ca16e0d7-4273-4612-b2e2-5cab8b7642bf",
   "metadata": {},
   "outputs": [],
   "source": [
    "X1 = X.values\n",
    "y1 = y.values"
   ]
  },
  {
   "cell_type": "code",
   "execution_count": 137,
   "id": "26c96f96-e789-4c77-8ab2-5d531bb07de6",
   "metadata": {},
   "outputs": [
    {
     "name": "stdout",
     "output_type": "stream",
     "text": [
      "388496.73956152395\n",
      "std: 25027.61509555682\n",
      "score: 0.20880675826214512\n"
     ]
    }
   ],
   "source": [
    "from sklearn.model_selection import KFold\n",
    "kfold = KFold(n_splits=10)\n",
    "rmse_list = []\n",
    "scores = []\n",
    "for train_idx, test_idx in kfold.split(X1, y1):\n",
    "    X_train, X_test = X1[train_idx], X1[test_idx]\n",
    "    y_train, y_test = y1[train_idx], y1[test_idx]\n",
    "    \n",
    "    model = LinearRegression()\n",
    "    model.fit(X_train, y_train)\n",
    "    y_hat = model.predict(X_test)\n",
    "    rmse = np.sqrt( mean_squared_error(y_test, y_hat) )\n",
    "    rmse_list.append( rmse )\n",
    "    scores.append( model.score(X_test, y_test) )\n",
    "print(np.mean(rmse_list))  \n",
    "print(f\"std: {np.std(rmse_list)}\")  \n",
    "print(f\"score: {np.mean(scores)}\")  "
   ]
  },
  {
   "cell_type": "markdown",
   "id": "eff2c257-f756-402e-8f95-841e1ab3f56e",
   "metadata": {},
   "source": [
    "We can see that our model validation has an mean score of 0.20 so we can say that our model with Linear Regression will not have a good performance, since whatever the train set and test set will not improve the score about 0.20, for this reason the standard deviation is high. We can try with more advanced algorithms like trees or random forest or algorithms based in boosting, but this is for other occasion."
   ]
  },
  {
   "cell_type": "markdown",
   "id": "f7b60c75-912c-482c-9d2b-309195824245",
   "metadata": {},
   "source": [
    "<span style=\"color:green; font-size:18px\">\n",
    "    <b>Cross-Validation with cross_val_score</b>\n",
    "</span>"
   ]
  },
  {
   "cell_type": "code",
   "execution_count": 161,
   "id": "e864cd52-c519-41d6-9687-5fa93bd5461c",
   "metadata": {},
   "outputs": [
    {
     "name": "stdout",
     "output_type": "stream",
     "text": [
      "0.20880675826214512\n"
     ]
    }
   ],
   "source": [
    "from sklearn.model_selection import cross_val_score\n",
    "score = cross_val_score( LinearRegression(), X1, y1, cv=10 )\n",
    "print(score.mean())"
   ]
  },
  {
   "cell_type": "code",
   "execution_count": null,
   "id": "aff23b3c-1e28-416a-90a0-bb773e9a390d",
   "metadata": {},
   "outputs": [],
   "source": []
  }
 ],
 "metadata": {
  "kernelspec": {
   "display_name": "orion",
   "language": "python",
   "name": "orion"
  },
  "language_info": {
   "codemirror_mode": {
    "name": "ipython",
    "version": 3
   },
   "file_extension": ".py",
   "mimetype": "text/x-python",
   "name": "python",
   "nbconvert_exporter": "python",
   "pygments_lexer": "ipython3",
   "version": "3.8.10"
  }
 },
 "nbformat": 4,
 "nbformat_minor": 5
}
