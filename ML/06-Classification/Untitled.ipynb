{
 "cells": [
  {
   "cell_type": "markdown",
   "id": "30d0745e-bfdc-4494-b610-d3bded7c002d",
   "metadata": {},
   "source": [
    "# <div align=center>**Logistic Regression** </div>"
   ]
  },
  {
   "cell_type": "markdown",
   "id": "7387bf33-ce99-46ba-90c9-c4cc46d65e33",
   "metadata": {},
   "source": [
    "Logistic Regression is a *Supervised Learning* algorithm used in classification tasks, it is an algorithm that can be used to model the probability ofa certain class or event.\n",
    "\n",
    "It is used whenthe data is linearly separable and the outcome is binary in nature.\n",
    "\n",
    "That means Logistic Regression is used in Binary Classification tasks.\n",
    "\n",
    "We can use Logistic Regression to get the probability that a class occurs using **Odds**\n",
    "\n",
    "**Odds :** Odds is the ratio of the probability of an event occurring to the probability of an event not occurring\n",
    "\n",
    "$ Odds = \\frac{P}{1 - P} $, \n",
    "*where P is the probability of an event*"
   ]
  },
  {
   "cell_type": "markdown",
   "id": "baf52660-7bac-4b19-80f1-f01e282499d2",
   "metadata": {},
   "source": [
    "## **Python Implementation**"
   ]
  },
  {
   "cell_type": "markdown",
   "id": "32d32c3b-0396-499f-8ad1-a0a9c70088b1",
   "metadata": {},
   "source": [
    "### **Imports**"
   ]
  },
  {
   "cell_type": "code",
   "execution_count": null,
   "id": "6eaa1972-f35d-44de-916c-781232133a65",
   "metadata": {},
   "outputs": [],
   "source": [
    "import numpy as np\n",
    "import pandas as pd\n",
    "import matplotlib.pyplot as plt\n",
    "import seaborn as sns\n",
    "from sklearn.preprocessing import MinMaxScaler\n",
    "from sklearn.linear_model import LogisticRegression\n",
    "from sklearn.model_selection import train_test_split\n",
    "from sklearn.metrics import confusion_matrix, roc_auc_score, roc_curve"
   ]
  }
 ],
 "metadata": {
  "kernelspec": {
   "display_name": "orion",
   "language": "python",
   "name": "orion"
  },
  "language_info": {
   "codemirror_mode": {
    "name": "ipython",
    "version": 3
   },
   "file_extension": ".py",
   "mimetype": "text/x-python",
   "name": "python",
   "nbconvert_exporter": "python",
   "pygments_lexer": "ipython3",
   "version": "3.8.10"
  }
 },
 "nbformat": 4,
 "nbformat_minor": 5
}
