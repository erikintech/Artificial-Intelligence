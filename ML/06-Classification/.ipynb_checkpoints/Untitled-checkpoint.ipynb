{
 "cells": [
  {
   "cell_type": "markdown",
   "id": "30d0745e-bfdc-4494-b610-d3bded7c002d",
   "metadata": {},
   "source": [
    "# <div align=center>**Logistic Regression** </div>"
   ]
  },
  {
   "cell_type": "code",
   "execution_count": null,
   "id": "b6c99c2e-2332-4a4e-8a01-cf9134b04a9d",
   "metadata": {},
   "outputs": [],
   "source": []
  }
 ],
 "metadata": {
  "kernelspec": {
   "display_name": "orion",
   "language": "python",
   "name": "orion"
  },
  "language_info": {
   "codemirror_mode": {
    "name": "ipython",
    "version": 3
   },
   "file_extension": ".py",
   "mimetype": "text/x-python",
   "name": "python",
   "nbconvert_exporter": "python",
   "pygments_lexer": "ipython3",
   "version": "3.8.10"
  }
 },
 "nbformat": 4,
 "nbformat_minor": 5
}
