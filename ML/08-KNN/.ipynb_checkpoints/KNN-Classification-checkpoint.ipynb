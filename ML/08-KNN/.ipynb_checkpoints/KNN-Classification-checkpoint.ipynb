{
 "cells": [
  {
   "cell_type": "markdown",
   "id": "108c8828-af48-4799-b067-16a0d0532632",
   "metadata": {},
   "source": [
    "# <div align=center>**K-Nearest Neighbors - Classification**</div>"
   ]
  },
  {
   "cell_type": "markdown",
   "id": "90e4499a-4a6c-454f-be37-67d7c711dcc8",
   "metadata": {},
   "source": [
    "K-nearest Neighbors is an machine learning algorithm created for classification and regression tasts, although it is most used for classification tasts, since in regression this algorithm give us bad results.\n",
    "\n",
    "The algorithm is based on predicting data by finding the similarities to the underlying data. The original assumption is the data exist in forms of clusters or exist in close proximity\n",
    "\n",
    "<div align=center><img src='./knn.png'/></div>"
   ]
  },
  {
   "cell_type": "markdown",
   "id": "6d7a16c0-8c59-4d84-88bb-ad8972d3a785",
   "metadata": {},
   "source": [
    "## **How is KNN implemented?**\n",
    "\n",
    "*For example we would like to classify a new type of diamond using the KNN algorithm so:*\n",
    "\n",
    "1. Initialize a value for K, K will be the total number of neighbors \n",
    "2. Calculate the similarity (distance) between the new point and the all data points.\n",
    "   * This isdone using the Euclidean distance.\n",
    "   \n",
    "   $ d(p,q) = d(q, p) = \\sqrt{ (q_{1} - p_{1})^{2} + (q_{2} - p_{2})^{2} + ... +  (q_{n} - p_{n})^{2} } = \\sqrt{ \\sum_{i = 1}^{n} (q_{i} - p{i})^2 } $\n",
    "3. Choose the K - amount of neighbors with the less distance between the new point and data points.\n",
    "4. The new data point belongs to the class that is most repeated among the neighbors cluster."
   ]
  },
  {
   "cell_type": "code",
   "execution_count": null,
   "id": "eaa65b98-28a8-4b47-8c87-5db50cb3650b",
   "metadata": {},
   "outputs": [],
   "source": []
  }
 ],
 "metadata": {
  "kernelspec": {
   "display_name": "orion",
   "language": "python",
   "name": "orion"
  },
  "language_info": {
   "codemirror_mode": {
    "name": "ipython",
    "version": 3
   },
   "file_extension": ".py",
   "mimetype": "text/x-python",
   "name": "python",
   "nbconvert_exporter": "python",
   "pygments_lexer": "ipython3",
   "version": "3.8.10"
  }
 },
 "nbformat": 4,
 "nbformat_minor": 5
}
