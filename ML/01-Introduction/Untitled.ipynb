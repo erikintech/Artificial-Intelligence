{
 "cells": [
  {
   "cell_type": "markdown",
   "id": "d0370f29-41d9-4b8d-9c57-00ee76d6f67f",
   "metadata": {},
   "source": [
    "<span style=\"color:lightgreen; font-size:30px;\">\n",
    "    <b>Life Cycle of a Machine Learning Project</b>\n",
    "</span>"
   ]
  },
  {
   "cell_type": "markdown",
   "id": "b4f1532f-8558-488c-ab88-0d3ae7a708c9",
   "metadata": {},
   "source": [
    "The life cycle of a machine learning project can be divided in 6 stages:\n",
    "* Planning\n",
    "* Data preparation\n",
    "* Model engineering\n",
    "* Model evaluation\n",
    "* Model deployment\n",
    "* Monitoring and maintenance"
   ]
  },
  {
   "cell_type": "markdown",
   "id": "415da11c-00bb-483c-88cc-6ae5806418b1",
   "metadata": {},
   "source": [
    "<span style=\"color:lightgreen; font-size:24px;\">\n",
    "    <b>1. Planning</b>\n",
    "</span>\n",
    "\n",
    "The planning phase  involves assessing the scope, succes metric and feasibility of the ML application, you need to understand the business and how to use machine learning to improve the current process.\n",
    "\n",
    "We can meke some questions like: do we require machine learning?, Can we achive similar requests with simple programming?\n",
    "\n",
    "In resume this phase consist in:\n",
    "\n",
    "* **Availability of the data:** \n",
    "   * do we have enough data available to train the model? \n",
    "   * Can we get a constant supply of new and updated data?\n",
    "   * Can we use synthetic data to reduce the cost?\n",
    "* **Applicability:**\n",
    "   * Will this solution solve the problem or improve the current process?\n",
    "   * Can we even use machine learning to solve this issue?\n",
    "* **Legal constraints:**\n",
    "   * Do we have permission from the local goverment to implement this solution?\n",
    "   * Are we following an ethical way of collecting the data?\n",
    "   * What will be the impact of this application in society\n",
    "* **Robustness and scalability:**\n",
    "   * is this application robust enough? \n",
    "   * Is it scalable? \n",
    "* **Explainability:**\n",
    "   * Can we explain how the machine learning model is coming up with the results? \n",
    "   * Can we explain the deep neural networks' inner workings? \n",
    "* **Availability of resources:**\n",
    "   * Do we have enough computing, storage, network, and human resources? \n",
    "   * Do we have qualified professionals? "
   ]
  },
  {
   "cell_type": "markdown",
   "id": "158f5266-e10f-4521-90ba-8483c79f3d7a",
   "metadata": {},
   "source": [
    "<span style=\"color:lightgreen; font-size:24px;\">\n",
    "    <b>2. Data Preparation</b>\n",
    "</span>\n",
    "\n",
    "This phase  is usually divided into four parts: data procurement and labeling, cleaning, managment and processing.\n",
    "* **Data Collection and labeling**\n",
    "   \n",
    "   We need first to decide how we  will collect the data by gathering the internal data, open-source data, buying it from the vendors, or generating synthetic data\n",
    "   \n",
    "   After collecting data we need to label the data.\n",
    "   \n",
    "* **Data Cleaning**\n",
    "\n",
    "   We will clean the data, imputing missing values, analyzing wrong-labeled data, removing outliers, and reducing the noise besides we can change datatyes if it is necessary.\n",
    "   \n",
    "   You can create a data pipeline to automate this process and perform data quality verification.\n",
    " \n",
    "* **Data Processing**\n",
    "\n",
    "   This stage involves feature selection,, dealing with imbalanced classes, feature engineering, data augmentation, and normalizing and scaling the data.\n",
    "\n",
    "* **Data Management:**\n",
    "\n",
    "   We will figure out data storage solutions, data versioning, for reproducibility, storing metadata and creating ETL/ELT pipelines. This part will ensure aconstant data stream for model training."
   ]
  },
  {
   "cell_type": "markdown",
   "id": "52e11cf8-f097-4dbe-92b1-730e224ddca3",
   "metadata": {},
   "source": [
    "<span style=\"color:lightgreen; font-size:24px;\">\n",
    "    <b>3. Model Engineer</b>\n",
    "</span>\n",
    "\n",
    "In this phase we will use all information from the planning phase to build and train a machine learning model.\n",
    "\n",
    "* Build an effective model architecture, it can be regression, classification or clustering, this step is a simple model then you can train data with more complex algorithms like neural networks.\n",
    "* Train the model using different algorithms\n",
    "* We can change hyperparameters to improve the results of our model"
   ]
  },
  {
   "cell_type": "markdown",
   "id": "38af2e10-9e4c-4d9d-9e1e-4a8a5c3d9f44",
   "metadata": {},
   "source": [
    "<span style=\"color:lightgreen; font-size:24px;\">\n",
    "    <b>4. Model Evaluation</b>\n",
    "</span>\n",
    " \n",
    " Now it's time to test variuos metrics . So that we can ensure that our machine learning model is ready for production. This phase we will make with all models that I have built in the previous phase, we compare all results and we decide what is the best model to put into production, the metrics depend on if the probles is regression or classification."
   ]
  },
  {
   "cell_type": "markdown",
   "id": "37b247cd-a4c7-4383-9804-ac1c3af60694",
   "metadata": {},
   "source": [
    "<span style=\"color:lightgreen; font-size:24px;\">\n",
    "    <b>5. Model Deployment</b>\n",
    "</span>\n",
    "\n",
    "In this phase we deploy our machine learning model to a real-world system for users can use our application.\n",
    "\n",
    "Generally models can be deployes on the cloud (AWS, Azure, GCP, IBM, etc) or in a local server, also  in web browser, software and edge device. After you can use API, web app, plugins or dashboards to acces the predictions\n",
    "\n",
    "n the deployment process, we define the inference hardware. We need to make sure we have enough RAM, storage, and computing power to produce fast results. After that, we will evaluate the model performance in production using A/B testing, ensuring user acceptability. \n",
    "\n",
    "The deployment strategy is important. You need to make sure that the changes are seamless and that they have improved the user experience. Moreover, a project manager should prepare a disaster management plan. It should include a fallback strategy, constant monitoring, anomaly detection, and minimizing losses. "
   ]
  },
  {
   "cell_type": "markdown",
   "id": "5a350453-d561-423c-a844-430444f76e3e",
   "metadata": {},
   "source": [
    "<span style=\"color:lightgreen; font-size:24px;\">\n",
    "    <b>6. Monitoring and Maintenance</b>\n",
    "</span>\n",
    "\n",
    "After deploying the model to production we need to constantly monitor and improve the system. We will be monitoring model metrics, hardware and software performance, and customer satisfaction. \n",
    "\n",
    "The monitoring is done completely automatically, and the professionals are notified about the anomalies, reduced model and system performance, and bad customer reviews.\n",
    "\n",
    "After we get a reduced performance alert, we will assess the issues and try to train the model on new data or make changes to model architectures. It is a continuous process. \n",
    "\n",
    "In rare cases, we have to revamp the complete machine learning life cycle to improve the data processing and model training techniques, update new software and hardware, and introduce a new framework for continuous integration.  "
   ]
  }
 ],
 "metadata": {
  "kernelspec": {
   "display_name": "aivenv",
   "language": "python",
   "name": "aivenv"
  },
  "language_info": {
   "codemirror_mode": {
    "name": "ipython",
    "version": 3
   },
   "file_extension": ".py",
   "mimetype": "text/x-python",
   "name": "python",
   "nbconvert_exporter": "python",
   "pygments_lexer": "ipython3",
   "version": "3.8.10"
  }
 },
 "nbformat": 4,
 "nbformat_minor": 5
}
